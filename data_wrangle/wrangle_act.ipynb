{
 "cells": [
  {
   "cell_type": "markdown",
   "metadata": {},
   "source": [
    "# 收集数据\n",
    "- WeRateDogs 的推特档案数据获取\n",
    "- 推特图像的预测数据"
   ]
  },
  {
   "cell_type": "code",
   "execution_count": null,
   "metadata": {},
   "outputs": [],
   "source": []
  },
  {
   "cell_type": "code",
   "execution_count": 226,
   "metadata": {},
   "outputs": [],
   "source": [
    "import requests\n",
    "import pandas as pd\n",
    "pd.options.display.max_columns=200\n",
    "pd.set_option('max_colwidth',100)"
   ]
  },
  {
   "cell_type": "raw",
   "metadata": {},
   "source": [
    "WeRateDogs 的推特档案数据获取"
   ]
  },
  {
   "cell_type": "code",
   "execution_count": 227,
   "metadata": {},
   "outputs": [],
   "source": [
    "twitter_archive_enhanced=pd.read_csv(\"twitter-archive-enhanced.csv\")"
   ]
  },
  {
   "cell_type": "code",
   "execution_count": 228,
   "metadata": {
    "scrolled": true
   },
   "outputs": [
    {
     "data": {
      "text/html": [
       "<div>\n",
       "<style scoped>\n",
       "    .dataframe tbody tr th:only-of-type {\n",
       "        vertical-align: middle;\n",
       "    }\n",
       "\n",
       "    .dataframe tbody tr th {\n",
       "        vertical-align: top;\n",
       "    }\n",
       "\n",
       "    .dataframe thead th {\n",
       "        text-align: right;\n",
       "    }\n",
       "</style>\n",
       "<table border=\"1\" class=\"dataframe\">\n",
       "  <thead>\n",
       "    <tr style=\"text-align: right;\">\n",
       "      <th></th>\n",
       "      <th>tweet_id</th>\n",
       "      <th>in_reply_to_status_id</th>\n",
       "      <th>in_reply_to_user_id</th>\n",
       "      <th>timestamp</th>\n",
       "      <th>source</th>\n",
       "      <th>text</th>\n",
       "      <th>retweeted_status_id</th>\n",
       "      <th>retweeted_status_user_id</th>\n",
       "      <th>retweeted_status_timestamp</th>\n",
       "      <th>expanded_urls</th>\n",
       "      <th>rating_numerator</th>\n",
       "      <th>rating_denominator</th>\n",
       "      <th>name</th>\n",
       "      <th>doggo</th>\n",
       "      <th>floofer</th>\n",
       "      <th>pupper</th>\n",
       "      <th>puppo</th>\n",
       "    </tr>\n",
       "  </thead>\n",
       "  <tbody>\n",
       "    <tr>\n",
       "      <th>0</th>\n",
       "      <td>892420643555336193</td>\n",
       "      <td>NaN</td>\n",
       "      <td>NaN</td>\n",
       "      <td>2017-08-01 16:23:56 +0000</td>\n",
       "      <td>&lt;a href=\"http://twitter.com/download/iphone\" rel=\"nofollow\"&gt;Twitter for iPhone&lt;/a&gt;</td>\n",
       "      <td>This is Phineas. He's a mystical boy. Only ever appears in the hole of a donut. 13/10 https://t....</td>\n",
       "      <td>NaN</td>\n",
       "      <td>NaN</td>\n",
       "      <td>NaN</td>\n",
       "      <td>https://twitter.com/dog_rates/status/892420643555336193/photo/1</td>\n",
       "      <td>13</td>\n",
       "      <td>10</td>\n",
       "      <td>Phineas</td>\n",
       "      <td>None</td>\n",
       "      <td>None</td>\n",
       "      <td>None</td>\n",
       "      <td>None</td>\n",
       "    </tr>\n",
       "    <tr>\n",
       "      <th>1</th>\n",
       "      <td>892177421306343426</td>\n",
       "      <td>NaN</td>\n",
       "      <td>NaN</td>\n",
       "      <td>2017-08-01 00:17:27 +0000</td>\n",
       "      <td>&lt;a href=\"http://twitter.com/download/iphone\" rel=\"nofollow\"&gt;Twitter for iPhone&lt;/a&gt;</td>\n",
       "      <td>This is Tilly. She's just checking pup on you. Hopes you're doing ok. If not, she's available fo...</td>\n",
       "      <td>NaN</td>\n",
       "      <td>NaN</td>\n",
       "      <td>NaN</td>\n",
       "      <td>https://twitter.com/dog_rates/status/892177421306343426/photo/1</td>\n",
       "      <td>13</td>\n",
       "      <td>10</td>\n",
       "      <td>Tilly</td>\n",
       "      <td>None</td>\n",
       "      <td>None</td>\n",
       "      <td>None</td>\n",
       "      <td>None</td>\n",
       "    </tr>\n",
       "    <tr>\n",
       "      <th>2</th>\n",
       "      <td>891815181378084864</td>\n",
       "      <td>NaN</td>\n",
       "      <td>NaN</td>\n",
       "      <td>2017-07-31 00:18:03 +0000</td>\n",
       "      <td>&lt;a href=\"http://twitter.com/download/iphone\" rel=\"nofollow\"&gt;Twitter for iPhone&lt;/a&gt;</td>\n",
       "      <td>This is Archie. He is a rare Norwegian Pouncing Corgo. Lives in the tall grass. You never know w...</td>\n",
       "      <td>NaN</td>\n",
       "      <td>NaN</td>\n",
       "      <td>NaN</td>\n",
       "      <td>https://twitter.com/dog_rates/status/891815181378084864/photo/1</td>\n",
       "      <td>12</td>\n",
       "      <td>10</td>\n",
       "      <td>Archie</td>\n",
       "      <td>None</td>\n",
       "      <td>None</td>\n",
       "      <td>None</td>\n",
       "      <td>None</td>\n",
       "    </tr>\n",
       "    <tr>\n",
       "      <th>3</th>\n",
       "      <td>891689557279858688</td>\n",
       "      <td>NaN</td>\n",
       "      <td>NaN</td>\n",
       "      <td>2017-07-30 15:58:51 +0000</td>\n",
       "      <td>&lt;a href=\"http://twitter.com/download/iphone\" rel=\"nofollow\"&gt;Twitter for iPhone&lt;/a&gt;</td>\n",
       "      <td>This is Darla. She commenced a snooze mid meal. 13/10 happens to the best of us https://t.co/tD3...</td>\n",
       "      <td>NaN</td>\n",
       "      <td>NaN</td>\n",
       "      <td>NaN</td>\n",
       "      <td>https://twitter.com/dog_rates/status/891689557279858688/photo/1</td>\n",
       "      <td>13</td>\n",
       "      <td>10</td>\n",
       "      <td>Darla</td>\n",
       "      <td>None</td>\n",
       "      <td>None</td>\n",
       "      <td>None</td>\n",
       "      <td>None</td>\n",
       "    </tr>\n",
       "    <tr>\n",
       "      <th>4</th>\n",
       "      <td>891327558926688256</td>\n",
       "      <td>NaN</td>\n",
       "      <td>NaN</td>\n",
       "      <td>2017-07-29 16:00:24 +0000</td>\n",
       "      <td>&lt;a href=\"http://twitter.com/download/iphone\" rel=\"nofollow\"&gt;Twitter for iPhone&lt;/a&gt;</td>\n",
       "      <td>This is Franklin. He would like you to stop calling him \"cute.\" He is a very fierce shark and sh...</td>\n",
       "      <td>NaN</td>\n",
       "      <td>NaN</td>\n",
       "      <td>NaN</td>\n",
       "      <td>https://twitter.com/dog_rates/status/891327558926688256/photo/1,https://twitter.com/dog_rates/st...</td>\n",
       "      <td>12</td>\n",
       "      <td>10</td>\n",
       "      <td>Franklin</td>\n",
       "      <td>None</td>\n",
       "      <td>None</td>\n",
       "      <td>None</td>\n",
       "      <td>None</td>\n",
       "    </tr>\n",
       "  </tbody>\n",
       "</table>\n",
       "</div>"
      ],
      "text/plain": [
       "             tweet_id  in_reply_to_status_id  in_reply_to_user_id                  timestamp                                                                              source                                                                                                 text  retweeted_status_id  retweeted_status_user_id retweeted_status_timestamp                                                                                        expanded_urls  rating_numerator  rating_denominator      name doggo floofer pupper puppo\n",
       "0  892420643555336193                    NaN                  NaN  2017-08-01 16:23:56 +0000  <a href=\"http://twitter.com/download/iphone\" rel=\"nofollow\">Twitter for iPhone</a>  This is Phineas. He's a mystical boy. Only ever appears in the hole of a donut. 13/10 https://t....                  NaN                       NaN                        NaN                                      https://twitter.com/dog_rates/status/892420643555336193/photo/1                13                  10   Phineas  None    None   None  None\n",
       "1  892177421306343426                    NaN                  NaN  2017-08-01 00:17:27 +0000  <a href=\"http://twitter.com/download/iphone\" rel=\"nofollow\">Twitter for iPhone</a>  This is Tilly. She's just checking pup on you. Hopes you're doing ok. If not, she's available fo...                  NaN                       NaN                        NaN                                      https://twitter.com/dog_rates/status/892177421306343426/photo/1                13                  10     Tilly  None    None   None  None\n",
       "2  891815181378084864                    NaN                  NaN  2017-07-31 00:18:03 +0000  <a href=\"http://twitter.com/download/iphone\" rel=\"nofollow\">Twitter for iPhone</a>  This is Archie. He is a rare Norwegian Pouncing Corgo. Lives in the tall grass. You never know w...                  NaN                       NaN                        NaN                                      https://twitter.com/dog_rates/status/891815181378084864/photo/1                12                  10    Archie  None    None   None  None\n",
       "3  891689557279858688                    NaN                  NaN  2017-07-30 15:58:51 +0000  <a href=\"http://twitter.com/download/iphone\" rel=\"nofollow\">Twitter for iPhone</a>  This is Darla. She commenced a snooze mid meal. 13/10 happens to the best of us https://t.co/tD3...                  NaN                       NaN                        NaN                                      https://twitter.com/dog_rates/status/891689557279858688/photo/1                13                  10     Darla  None    None   None  None\n",
       "4  891327558926688256                    NaN                  NaN  2017-07-29 16:00:24 +0000  <a href=\"http://twitter.com/download/iphone\" rel=\"nofollow\">Twitter for iPhone</a>  This is Franklin. He would like you to stop calling him \"cute.\" He is a very fierce shark and sh...                  NaN                       NaN                        NaN  https://twitter.com/dog_rates/status/891327558926688256/photo/1,https://twitter.com/dog_rates/st...                12                  10  Franklin  None    None   None  None"
      ]
     },
     "execution_count": 228,
     "metadata": {},
     "output_type": "execute_result"
    }
   ],
   "source": [
    "twitter_archive_enhanced.head(5)"
   ]
  },
  {
   "cell_type": "raw",
   "metadata": {},
   "source": [
    "获取推特图像的预测数据"
   ]
  },
  {
   "cell_type": "code",
   "execution_count": 229,
   "metadata": {},
   "outputs": [],
   "source": [
    "import requests \n",
    "with open(\"image-predictions.tsv\",mode='wb') as f:\n",
    "    file = requests.get('https://raw.githubusercontent.com/udacity/new-dand-advanced-china/master/%E6%95%B0%E6%8D%AE%E6%B8%85%E6%B4%97/WeRateDogs%E9%A1%B9%E7%9B%AE/image-predictions.tsv')\n",
    "    f.write(file.content)\n",
    "    "
   ]
  },
  {
   "cell_type": "code",
   "execution_count": 230,
   "metadata": {},
   "outputs": [],
   "source": [
    "from io import BytesIO\n",
    "with open(\"image-predictions.tsv\",mode='wb') as f:\n",
    "    f.write(file.content)"
   ]
  },
  {
   "cell_type": "code",
   "execution_count": 231,
   "metadata": {},
   "outputs": [],
   "source": [
    "image_predictions=pd.read_csv(\"image-predictions.tsv\",sep=\"\\t\")  "
   ]
  },
  {
   "cell_type": "code",
   "execution_count": 232,
   "metadata": {
    "scrolled": false
   },
   "outputs": [
    {
     "data": {
      "text/html": [
       "<div>\n",
       "<style scoped>\n",
       "    .dataframe tbody tr th:only-of-type {\n",
       "        vertical-align: middle;\n",
       "    }\n",
       "\n",
       "    .dataframe tbody tr th {\n",
       "        vertical-align: top;\n",
       "    }\n",
       "\n",
       "    .dataframe thead th {\n",
       "        text-align: right;\n",
       "    }\n",
       "</style>\n",
       "<table border=\"1\" class=\"dataframe\">\n",
       "  <thead>\n",
       "    <tr style=\"text-align: right;\">\n",
       "      <th></th>\n",
       "      <th>tweet_id</th>\n",
       "      <th>jpg_url</th>\n",
       "      <th>img_num</th>\n",
       "      <th>p1</th>\n",
       "      <th>p1_conf</th>\n",
       "      <th>p1_dog</th>\n",
       "      <th>p2</th>\n",
       "      <th>p2_conf</th>\n",
       "      <th>p2_dog</th>\n",
       "      <th>p3</th>\n",
       "      <th>p3_conf</th>\n",
       "      <th>p3_dog</th>\n",
       "    </tr>\n",
       "  </thead>\n",
       "  <tbody>\n",
       "    <tr>\n",
       "      <th>0</th>\n",
       "      <td>666020888022790149</td>\n",
       "      <td>https://pbs.twimg.com/media/CT4udn0WwAA0aMy.jpg</td>\n",
       "      <td>1</td>\n",
       "      <td>Welsh_springer_spaniel</td>\n",
       "      <td>0.465074</td>\n",
       "      <td>True</td>\n",
       "      <td>collie</td>\n",
       "      <td>0.156665</td>\n",
       "      <td>True</td>\n",
       "      <td>Shetland_sheepdog</td>\n",
       "      <td>0.061428</td>\n",
       "      <td>True</td>\n",
       "    </tr>\n",
       "    <tr>\n",
       "      <th>1</th>\n",
       "      <td>666029285002620928</td>\n",
       "      <td>https://pbs.twimg.com/media/CT42GRgUYAA5iDo.jpg</td>\n",
       "      <td>1</td>\n",
       "      <td>redbone</td>\n",
       "      <td>0.506826</td>\n",
       "      <td>True</td>\n",
       "      <td>miniature_pinscher</td>\n",
       "      <td>0.074192</td>\n",
       "      <td>True</td>\n",
       "      <td>Rhodesian_ridgeback</td>\n",
       "      <td>0.072010</td>\n",
       "      <td>True</td>\n",
       "    </tr>\n",
       "    <tr>\n",
       "      <th>2</th>\n",
       "      <td>666033412701032449</td>\n",
       "      <td>https://pbs.twimg.com/media/CT4521TWwAEvMyu.jpg</td>\n",
       "      <td>1</td>\n",
       "      <td>German_shepherd</td>\n",
       "      <td>0.596461</td>\n",
       "      <td>True</td>\n",
       "      <td>malinois</td>\n",
       "      <td>0.138584</td>\n",
       "      <td>True</td>\n",
       "      <td>bloodhound</td>\n",
       "      <td>0.116197</td>\n",
       "      <td>True</td>\n",
       "    </tr>\n",
       "    <tr>\n",
       "      <th>3</th>\n",
       "      <td>666044226329800704</td>\n",
       "      <td>https://pbs.twimg.com/media/CT5Dr8HUEAA-lEu.jpg</td>\n",
       "      <td>1</td>\n",
       "      <td>Rhodesian_ridgeback</td>\n",
       "      <td>0.408143</td>\n",
       "      <td>True</td>\n",
       "      <td>redbone</td>\n",
       "      <td>0.360687</td>\n",
       "      <td>True</td>\n",
       "      <td>miniature_pinscher</td>\n",
       "      <td>0.222752</td>\n",
       "      <td>True</td>\n",
       "    </tr>\n",
       "    <tr>\n",
       "      <th>4</th>\n",
       "      <td>666049248165822465</td>\n",
       "      <td>https://pbs.twimg.com/media/CT5IQmsXIAAKY4A.jpg</td>\n",
       "      <td>1</td>\n",
       "      <td>miniature_pinscher</td>\n",
       "      <td>0.560311</td>\n",
       "      <td>True</td>\n",
       "      <td>Rottweiler</td>\n",
       "      <td>0.243682</td>\n",
       "      <td>True</td>\n",
       "      <td>Doberman</td>\n",
       "      <td>0.154629</td>\n",
       "      <td>True</td>\n",
       "    </tr>\n",
       "  </tbody>\n",
       "</table>\n",
       "</div>"
      ],
      "text/plain": [
       "             tweet_id                                          jpg_url  img_num                      p1   p1_conf  p1_dog                  p2   p2_conf  p2_dog                   p3   p3_conf  p3_dog\n",
       "0  666020888022790149  https://pbs.twimg.com/media/CT4udn0WwAA0aMy.jpg        1  Welsh_springer_spaniel  0.465074    True              collie  0.156665    True    Shetland_sheepdog  0.061428    True\n",
       "1  666029285002620928  https://pbs.twimg.com/media/CT42GRgUYAA5iDo.jpg        1                 redbone  0.506826    True  miniature_pinscher  0.074192    True  Rhodesian_ridgeback  0.072010    True\n",
       "2  666033412701032449  https://pbs.twimg.com/media/CT4521TWwAEvMyu.jpg        1         German_shepherd  0.596461    True            malinois  0.138584    True           bloodhound  0.116197    True\n",
       "3  666044226329800704  https://pbs.twimg.com/media/CT5Dr8HUEAA-lEu.jpg        1     Rhodesian_ridgeback  0.408143    True             redbone  0.360687    True   miniature_pinscher  0.222752    True\n",
       "4  666049248165822465  https://pbs.twimg.com/media/CT5IQmsXIAAKY4A.jpg        1      miniature_pinscher  0.560311    True          Rottweiler  0.243682    True             Doberman  0.154629    True"
      ]
     },
     "execution_count": 232,
     "metadata": {},
     "output_type": "execute_result"
    }
   ],
   "source": [
    "image_predictions.head(5)"
   ]
  },
  {
   "cell_type": "raw",
   "metadata": {},
   "source": [
    "每条推特的额附加数据"
   ]
  },
  {
   "cell_type": "code",
   "execution_count": 233,
   "metadata": {},
   "outputs": [],
   "source": [
    "import json\n",
    "with open(\"tweet_json.txt\") as f:\n",
    "        data={\"id\":[],\"retweet_count\":[],\"favorite_count\":[]}\n",
    "        for line in f.readlines():\n",
    "                json_obj=json.loads(line)\n",
    "                data['id'].append(json_obj['id'])\n",
    "                data['retweet_count'].append(json_obj['retweet_count'])\n",
    "                data['favorite_count'].append(json_obj['favorite_count'])\n",
    "        tweet_json=pd.DataFrame(data)"
   ]
  },
  {
   "cell_type": "code",
   "execution_count": 234,
   "metadata": {},
   "outputs": [
    {
     "data": {
      "text/html": [
       "<div>\n",
       "<style scoped>\n",
       "    .dataframe tbody tr th:only-of-type {\n",
       "        vertical-align: middle;\n",
       "    }\n",
       "\n",
       "    .dataframe tbody tr th {\n",
       "        vertical-align: top;\n",
       "    }\n",
       "\n",
       "    .dataframe thead th {\n",
       "        text-align: right;\n",
       "    }\n",
       "</style>\n",
       "<table border=\"1\" class=\"dataframe\">\n",
       "  <thead>\n",
       "    <tr style=\"text-align: right;\">\n",
       "      <th></th>\n",
       "      <th>id</th>\n",
       "      <th>retweet_count</th>\n",
       "      <th>favorite_count</th>\n",
       "    </tr>\n",
       "  </thead>\n",
       "  <tbody>\n",
       "    <tr>\n",
       "      <th>0</th>\n",
       "      <td>892420643555336193</td>\n",
       "      <td>8842</td>\n",
       "      <td>39492</td>\n",
       "    </tr>\n",
       "    <tr>\n",
       "      <th>1</th>\n",
       "      <td>892177421306343426</td>\n",
       "      <td>6480</td>\n",
       "      <td>33786</td>\n",
       "    </tr>\n",
       "    <tr>\n",
       "      <th>2</th>\n",
       "      <td>891815181378084864</td>\n",
       "      <td>4301</td>\n",
       "      <td>25445</td>\n",
       "    </tr>\n",
       "    <tr>\n",
       "      <th>3</th>\n",
       "      <td>891689557279858688</td>\n",
       "      <td>8925</td>\n",
       "      <td>42863</td>\n",
       "    </tr>\n",
       "    <tr>\n",
       "      <th>4</th>\n",
       "      <td>891327558926688256</td>\n",
       "      <td>9721</td>\n",
       "      <td>41016</td>\n",
       "    </tr>\n",
       "  </tbody>\n",
       "</table>\n",
       "</div>"
      ],
      "text/plain": [
       "                   id  retweet_count  favorite_count\n",
       "0  892420643555336193           8842           39492\n",
       "1  892177421306343426           6480           33786\n",
       "2  891815181378084864           4301           25445\n",
       "3  891689557279858688           8925           42863\n",
       "4  891327558926688256           9721           41016"
      ]
     },
     "execution_count": 234,
     "metadata": {},
     "output_type": "execute_result"
    }
   ],
   "source": [
    "tweet_json.head(5)"
   ]
  },
  {
   "cell_type": "code",
   "execution_count": null,
   "metadata": {},
   "outputs": [],
   "source": []
  },
  {
   "cell_type": "markdown",
   "metadata": {},
   "source": [
    "# 对项目数据进行评估"
   ]
  },
  {
   "cell_type": "markdown",
   "metadata": {},
   "source": [
    "## twitter_archive_enhanced"
   ]
  },
  {
   "cell_type": "code",
   "execution_count": 235,
   "metadata": {
    "scrolled": false
   },
   "outputs": [
    {
     "data": {
      "text/html": [
       "<div>\n",
       "<style scoped>\n",
       "    .dataframe tbody tr th:only-of-type {\n",
       "        vertical-align: middle;\n",
       "    }\n",
       "\n",
       "    .dataframe tbody tr th {\n",
       "        vertical-align: top;\n",
       "    }\n",
       "\n",
       "    .dataframe thead th {\n",
       "        text-align: right;\n",
       "    }\n",
       "</style>\n",
       "<table border=\"1\" class=\"dataframe\">\n",
       "  <thead>\n",
       "    <tr style=\"text-align: right;\">\n",
       "      <th></th>\n",
       "      <th>tweet_id</th>\n",
       "      <th>in_reply_to_status_id</th>\n",
       "      <th>in_reply_to_user_id</th>\n",
       "      <th>timestamp</th>\n",
       "      <th>source</th>\n",
       "      <th>text</th>\n",
       "      <th>retweeted_status_id</th>\n",
       "      <th>retweeted_status_user_id</th>\n",
       "      <th>retweeted_status_timestamp</th>\n",
       "      <th>expanded_urls</th>\n",
       "      <th>rating_numerator</th>\n",
       "      <th>rating_denominator</th>\n",
       "      <th>name</th>\n",
       "      <th>doggo</th>\n",
       "      <th>floofer</th>\n",
       "      <th>pupper</th>\n",
       "      <th>puppo</th>\n",
       "    </tr>\n",
       "  </thead>\n",
       "  <tbody>\n",
       "    <tr>\n",
       "      <th>0</th>\n",
       "      <td>892420643555336193</td>\n",
       "      <td>NaN</td>\n",
       "      <td>NaN</td>\n",
       "      <td>2017-08-01 16:23:56 +0000</td>\n",
       "      <td>&lt;a href=\"http://twitter.com/download/iphone\" rel=\"nofollow\"&gt;Twitter for iPhone&lt;/a&gt;</td>\n",
       "      <td>This is Phineas. He's a mystical boy. Only ever appears in the hole of a donut. 13/10 https://t....</td>\n",
       "      <td>NaN</td>\n",
       "      <td>NaN</td>\n",
       "      <td>NaN</td>\n",
       "      <td>https://twitter.com/dog_rates/status/892420643555336193/photo/1</td>\n",
       "      <td>13</td>\n",
       "      <td>10</td>\n",
       "      <td>Phineas</td>\n",
       "      <td>None</td>\n",
       "      <td>None</td>\n",
       "      <td>None</td>\n",
       "      <td>None</td>\n",
       "    </tr>\n",
       "    <tr>\n",
       "      <th>1</th>\n",
       "      <td>892177421306343426</td>\n",
       "      <td>NaN</td>\n",
       "      <td>NaN</td>\n",
       "      <td>2017-08-01 00:17:27 +0000</td>\n",
       "      <td>&lt;a href=\"http://twitter.com/download/iphone\" rel=\"nofollow\"&gt;Twitter for iPhone&lt;/a&gt;</td>\n",
       "      <td>This is Tilly. She's just checking pup on you. Hopes you're doing ok. If not, she's available fo...</td>\n",
       "      <td>NaN</td>\n",
       "      <td>NaN</td>\n",
       "      <td>NaN</td>\n",
       "      <td>https://twitter.com/dog_rates/status/892177421306343426/photo/1</td>\n",
       "      <td>13</td>\n",
       "      <td>10</td>\n",
       "      <td>Tilly</td>\n",
       "      <td>None</td>\n",
       "      <td>None</td>\n",
       "      <td>None</td>\n",
       "      <td>None</td>\n",
       "    </tr>\n",
       "    <tr>\n",
       "      <th>2</th>\n",
       "      <td>891815181378084864</td>\n",
       "      <td>NaN</td>\n",
       "      <td>NaN</td>\n",
       "      <td>2017-07-31 00:18:03 +0000</td>\n",
       "      <td>&lt;a href=\"http://twitter.com/download/iphone\" rel=\"nofollow\"&gt;Twitter for iPhone&lt;/a&gt;</td>\n",
       "      <td>This is Archie. He is a rare Norwegian Pouncing Corgo. Lives in the tall grass. You never know w...</td>\n",
       "      <td>NaN</td>\n",
       "      <td>NaN</td>\n",
       "      <td>NaN</td>\n",
       "      <td>https://twitter.com/dog_rates/status/891815181378084864/photo/1</td>\n",
       "      <td>12</td>\n",
       "      <td>10</td>\n",
       "      <td>Archie</td>\n",
       "      <td>None</td>\n",
       "      <td>None</td>\n",
       "      <td>None</td>\n",
       "      <td>None</td>\n",
       "    </tr>\n",
       "    <tr>\n",
       "      <th>3</th>\n",
       "      <td>891689557279858688</td>\n",
       "      <td>NaN</td>\n",
       "      <td>NaN</td>\n",
       "      <td>2017-07-30 15:58:51 +0000</td>\n",
       "      <td>&lt;a href=\"http://twitter.com/download/iphone\" rel=\"nofollow\"&gt;Twitter for iPhone&lt;/a&gt;</td>\n",
       "      <td>This is Darla. She commenced a snooze mid meal. 13/10 happens to the best of us https://t.co/tD3...</td>\n",
       "      <td>NaN</td>\n",
       "      <td>NaN</td>\n",
       "      <td>NaN</td>\n",
       "      <td>https://twitter.com/dog_rates/status/891689557279858688/photo/1</td>\n",
       "      <td>13</td>\n",
       "      <td>10</td>\n",
       "      <td>Darla</td>\n",
       "      <td>None</td>\n",
       "      <td>None</td>\n",
       "      <td>None</td>\n",
       "      <td>None</td>\n",
       "    </tr>\n",
       "    <tr>\n",
       "      <th>4</th>\n",
       "      <td>891327558926688256</td>\n",
       "      <td>NaN</td>\n",
       "      <td>NaN</td>\n",
       "      <td>2017-07-29 16:00:24 +0000</td>\n",
       "      <td>&lt;a href=\"http://twitter.com/download/iphone\" rel=\"nofollow\"&gt;Twitter for iPhone&lt;/a&gt;</td>\n",
       "      <td>This is Franklin. He would like you to stop calling him \"cute.\" He is a very fierce shark and sh...</td>\n",
       "      <td>NaN</td>\n",
       "      <td>NaN</td>\n",
       "      <td>NaN</td>\n",
       "      <td>https://twitter.com/dog_rates/status/891327558926688256/photo/1,https://twitter.com/dog_rates/st...</td>\n",
       "      <td>12</td>\n",
       "      <td>10</td>\n",
       "      <td>Franklin</td>\n",
       "      <td>None</td>\n",
       "      <td>None</td>\n",
       "      <td>None</td>\n",
       "      <td>None</td>\n",
       "    </tr>\n",
       "  </tbody>\n",
       "</table>\n",
       "</div>"
      ],
      "text/plain": [
       "             tweet_id  in_reply_to_status_id  in_reply_to_user_id                  timestamp                                                                              source                                                                                                 text  retweeted_status_id  retweeted_status_user_id retweeted_status_timestamp                                                                                        expanded_urls  rating_numerator  rating_denominator      name doggo floofer pupper puppo\n",
       "0  892420643555336193                    NaN                  NaN  2017-08-01 16:23:56 +0000  <a href=\"http://twitter.com/download/iphone\" rel=\"nofollow\">Twitter for iPhone</a>  This is Phineas. He's a mystical boy. Only ever appears in the hole of a donut. 13/10 https://t....                  NaN                       NaN                        NaN                                      https://twitter.com/dog_rates/status/892420643555336193/photo/1                13                  10   Phineas  None    None   None  None\n",
       "1  892177421306343426                    NaN                  NaN  2017-08-01 00:17:27 +0000  <a href=\"http://twitter.com/download/iphone\" rel=\"nofollow\">Twitter for iPhone</a>  This is Tilly. She's just checking pup on you. Hopes you're doing ok. If not, she's available fo...                  NaN                       NaN                        NaN                                      https://twitter.com/dog_rates/status/892177421306343426/photo/1                13                  10     Tilly  None    None   None  None\n",
       "2  891815181378084864                    NaN                  NaN  2017-07-31 00:18:03 +0000  <a href=\"http://twitter.com/download/iphone\" rel=\"nofollow\">Twitter for iPhone</a>  This is Archie. He is a rare Norwegian Pouncing Corgo. Lives in the tall grass. You never know w...                  NaN                       NaN                        NaN                                      https://twitter.com/dog_rates/status/891815181378084864/photo/1                12                  10    Archie  None    None   None  None\n",
       "3  891689557279858688                    NaN                  NaN  2017-07-30 15:58:51 +0000  <a href=\"http://twitter.com/download/iphone\" rel=\"nofollow\">Twitter for iPhone</a>  This is Darla. She commenced a snooze mid meal. 13/10 happens to the best of us https://t.co/tD3...                  NaN                       NaN                        NaN                                      https://twitter.com/dog_rates/status/891689557279858688/photo/1                13                  10     Darla  None    None   None  None\n",
       "4  891327558926688256                    NaN                  NaN  2017-07-29 16:00:24 +0000  <a href=\"http://twitter.com/download/iphone\" rel=\"nofollow\">Twitter for iPhone</a>  This is Franklin. He would like you to stop calling him \"cute.\" He is a very fierce shark and sh...                  NaN                       NaN                        NaN  https://twitter.com/dog_rates/status/891327558926688256/photo/1,https://twitter.com/dog_rates/st...                12                  10  Franklin  None    None   None  None"
      ]
     },
     "execution_count": 235,
     "metadata": {},
     "output_type": "execute_result"
    }
   ],
   "source": [
    "twitter_archive_enhanced.head(5)"
   ]
  },
  {
   "cell_type": "code",
   "execution_count": 236,
   "metadata": {
    "scrolled": true
   },
   "outputs": [
    {
     "data": {
      "text/html": [
       "<div>\n",
       "<style scoped>\n",
       "    .dataframe tbody tr th:only-of-type {\n",
       "        vertical-align: middle;\n",
       "    }\n",
       "\n",
       "    .dataframe tbody tr th {\n",
       "        vertical-align: top;\n",
       "    }\n",
       "\n",
       "    .dataframe thead th {\n",
       "        text-align: right;\n",
       "    }\n",
       "</style>\n",
       "<table border=\"1\" class=\"dataframe\">\n",
       "  <thead>\n",
       "    <tr style=\"text-align: right;\">\n",
       "      <th></th>\n",
       "      <th>tweet_id</th>\n",
       "      <th>in_reply_to_status_id</th>\n",
       "      <th>in_reply_to_user_id</th>\n",
       "      <th>timestamp</th>\n",
       "      <th>source</th>\n",
       "      <th>text</th>\n",
       "      <th>retweeted_status_id</th>\n",
       "      <th>retweeted_status_user_id</th>\n",
       "      <th>retweeted_status_timestamp</th>\n",
       "      <th>expanded_urls</th>\n",
       "      <th>rating_numerator</th>\n",
       "      <th>rating_denominator</th>\n",
       "      <th>name</th>\n",
       "      <th>doggo</th>\n",
       "      <th>floofer</th>\n",
       "      <th>pupper</th>\n",
       "      <th>puppo</th>\n",
       "    </tr>\n",
       "  </thead>\n",
       "  <tbody>\n",
       "    <tr>\n",
       "      <th>2351</th>\n",
       "      <td>666049248165822465</td>\n",
       "      <td>NaN</td>\n",
       "      <td>NaN</td>\n",
       "      <td>2015-11-16 00:24:50 +0000</td>\n",
       "      <td>&lt;a href=\"http://twitter.com/download/iphone\" rel=\"nofollow\"&gt;Twitter for iPhone&lt;/a&gt;</td>\n",
       "      <td>Here we have a 1949 1st generation vulpix. Enjoys sweat tea and Fox News. Cannot be phased. 5/10...</td>\n",
       "      <td>NaN</td>\n",
       "      <td>NaN</td>\n",
       "      <td>NaN</td>\n",
       "      <td>https://twitter.com/dog_rates/status/666049248165822465/photo/1</td>\n",
       "      <td>5</td>\n",
       "      <td>10</td>\n",
       "      <td>None</td>\n",
       "      <td>None</td>\n",
       "      <td>None</td>\n",
       "      <td>None</td>\n",
       "      <td>None</td>\n",
       "    </tr>\n",
       "    <tr>\n",
       "      <th>2352</th>\n",
       "      <td>666044226329800704</td>\n",
       "      <td>NaN</td>\n",
       "      <td>NaN</td>\n",
       "      <td>2015-11-16 00:04:52 +0000</td>\n",
       "      <td>&lt;a href=\"http://twitter.com/download/iphone\" rel=\"nofollow\"&gt;Twitter for iPhone&lt;/a&gt;</td>\n",
       "      <td>This is a purebred Piers Morgan. Loves to Netflix and chill. Always looks like he forgot to unpl...</td>\n",
       "      <td>NaN</td>\n",
       "      <td>NaN</td>\n",
       "      <td>NaN</td>\n",
       "      <td>https://twitter.com/dog_rates/status/666044226329800704/photo/1</td>\n",
       "      <td>6</td>\n",
       "      <td>10</td>\n",
       "      <td>a</td>\n",
       "      <td>None</td>\n",
       "      <td>None</td>\n",
       "      <td>None</td>\n",
       "      <td>None</td>\n",
       "    </tr>\n",
       "    <tr>\n",
       "      <th>2353</th>\n",
       "      <td>666033412701032449</td>\n",
       "      <td>NaN</td>\n",
       "      <td>NaN</td>\n",
       "      <td>2015-11-15 23:21:54 +0000</td>\n",
       "      <td>&lt;a href=\"http://twitter.com/download/iphone\" rel=\"nofollow\"&gt;Twitter for iPhone&lt;/a&gt;</td>\n",
       "      <td>Here is a very happy pup. Big fan of well-maintained decks. Just look at that tongue. 9/10 would...</td>\n",
       "      <td>NaN</td>\n",
       "      <td>NaN</td>\n",
       "      <td>NaN</td>\n",
       "      <td>https://twitter.com/dog_rates/status/666033412701032449/photo/1</td>\n",
       "      <td>9</td>\n",
       "      <td>10</td>\n",
       "      <td>a</td>\n",
       "      <td>None</td>\n",
       "      <td>None</td>\n",
       "      <td>None</td>\n",
       "      <td>None</td>\n",
       "    </tr>\n",
       "    <tr>\n",
       "      <th>2354</th>\n",
       "      <td>666029285002620928</td>\n",
       "      <td>NaN</td>\n",
       "      <td>NaN</td>\n",
       "      <td>2015-11-15 23:05:30 +0000</td>\n",
       "      <td>&lt;a href=\"http://twitter.com/download/iphone\" rel=\"nofollow\"&gt;Twitter for iPhone&lt;/a&gt;</td>\n",
       "      <td>This is a western brown Mitsubishi terrier. Upset about leaf. Actually 2 dogs here. 7/10 would w...</td>\n",
       "      <td>NaN</td>\n",
       "      <td>NaN</td>\n",
       "      <td>NaN</td>\n",
       "      <td>https://twitter.com/dog_rates/status/666029285002620928/photo/1</td>\n",
       "      <td>7</td>\n",
       "      <td>10</td>\n",
       "      <td>a</td>\n",
       "      <td>None</td>\n",
       "      <td>None</td>\n",
       "      <td>None</td>\n",
       "      <td>None</td>\n",
       "    </tr>\n",
       "    <tr>\n",
       "      <th>2355</th>\n",
       "      <td>666020888022790149</td>\n",
       "      <td>NaN</td>\n",
       "      <td>NaN</td>\n",
       "      <td>2015-11-15 22:32:08 +0000</td>\n",
       "      <td>&lt;a href=\"http://twitter.com/download/iphone\" rel=\"nofollow\"&gt;Twitter for iPhone&lt;/a&gt;</td>\n",
       "      <td>Here we have a Japanese Irish Setter. Lost eye in Vietnam (?). Big fan of relaxing on stair. 8/1...</td>\n",
       "      <td>NaN</td>\n",
       "      <td>NaN</td>\n",
       "      <td>NaN</td>\n",
       "      <td>https://twitter.com/dog_rates/status/666020888022790149/photo/1</td>\n",
       "      <td>8</td>\n",
       "      <td>10</td>\n",
       "      <td>None</td>\n",
       "      <td>None</td>\n",
       "      <td>None</td>\n",
       "      <td>None</td>\n",
       "      <td>None</td>\n",
       "    </tr>\n",
       "  </tbody>\n",
       "</table>\n",
       "</div>"
      ],
      "text/plain": [
       "                tweet_id  in_reply_to_status_id  in_reply_to_user_id                  timestamp                                                                              source                                                                                                 text  retweeted_status_id  retweeted_status_user_id retweeted_status_timestamp                                                    expanded_urls  rating_numerator  rating_denominator  name doggo floofer pupper puppo\n",
       "2351  666049248165822465                    NaN                  NaN  2015-11-16 00:24:50 +0000  <a href=\"http://twitter.com/download/iphone\" rel=\"nofollow\">Twitter for iPhone</a>  Here we have a 1949 1st generation vulpix. Enjoys sweat tea and Fox News. Cannot be phased. 5/10...                  NaN                       NaN                        NaN  https://twitter.com/dog_rates/status/666049248165822465/photo/1                 5                  10  None  None    None   None  None\n",
       "2352  666044226329800704                    NaN                  NaN  2015-11-16 00:04:52 +0000  <a href=\"http://twitter.com/download/iphone\" rel=\"nofollow\">Twitter for iPhone</a>  This is a purebred Piers Morgan. Loves to Netflix and chill. Always looks like he forgot to unpl...                  NaN                       NaN                        NaN  https://twitter.com/dog_rates/status/666044226329800704/photo/1                 6                  10     a  None    None   None  None\n",
       "2353  666033412701032449                    NaN                  NaN  2015-11-15 23:21:54 +0000  <a href=\"http://twitter.com/download/iphone\" rel=\"nofollow\">Twitter for iPhone</a>  Here is a very happy pup. Big fan of well-maintained decks. Just look at that tongue. 9/10 would...                  NaN                       NaN                        NaN  https://twitter.com/dog_rates/status/666033412701032449/photo/1                 9                  10     a  None    None   None  None\n",
       "2354  666029285002620928                    NaN                  NaN  2015-11-15 23:05:30 +0000  <a href=\"http://twitter.com/download/iphone\" rel=\"nofollow\">Twitter for iPhone</a>  This is a western brown Mitsubishi terrier. Upset about leaf. Actually 2 dogs here. 7/10 would w...                  NaN                       NaN                        NaN  https://twitter.com/dog_rates/status/666029285002620928/photo/1                 7                  10     a  None    None   None  None\n",
       "2355  666020888022790149                    NaN                  NaN  2015-11-15 22:32:08 +0000  <a href=\"http://twitter.com/download/iphone\" rel=\"nofollow\">Twitter for iPhone</a>  Here we have a Japanese Irish Setter. Lost eye in Vietnam (?). Big fan of relaxing on stair. 8/1...                  NaN                       NaN                        NaN  https://twitter.com/dog_rates/status/666020888022790149/photo/1                 8                  10  None  None    None   None  None"
      ]
     },
     "execution_count": 236,
     "metadata": {},
     "output_type": "execute_result"
    }
   ],
   "source": [
    "twitter_archive_enhanced.tail(5)"
   ]
  },
  {
   "cell_type": "code",
   "execution_count": 237,
   "metadata": {},
   "outputs": [
    {
     "data": {
      "text/plain": [
       "['tweet_id',\n",
       " 'in_reply_to_status_id',\n",
       " 'in_reply_to_user_id',\n",
       " 'timestamp',\n",
       " 'source',\n",
       " 'text',\n",
       " 'retweeted_status_id',\n",
       " 'retweeted_status_user_id',\n",
       " 'retweeted_status_timestamp',\n",
       " 'expanded_urls',\n",
       " 'rating_numerator',\n",
       " 'rating_denominator',\n",
       " 'name',\n",
       " 'doggo',\n",
       " 'floofer',\n",
       " 'pupper',\n",
       " 'puppo']"
      ]
     },
     "execution_count": 237,
     "metadata": {},
     "output_type": "execute_result"
    }
   ],
   "source": [
    "twitter_archive_enhanced.columns.values.tolist()"
   ]
  },
  {
   "cell_type": "code",
   "execution_count": 238,
   "metadata": {
    "scrolled": false
   },
   "outputs": [
    {
     "data": {
      "text/plain": [
       "215     <a href=\"http://twitter.com/download/iphone\" rel=\"nofollow\">Twitter for iPhone</a>\n",
       "1460    <a href=\"http://twitter.com/download/iphone\" rel=\"nofollow\">Twitter for iPhone</a>\n",
       "1765    <a href=\"http://twitter.com/download/iphone\" rel=\"nofollow\">Twitter for iPhone</a>\n",
       "1671    <a href=\"http://twitter.com/download/iphone\" rel=\"nofollow\">Twitter for iPhone</a>\n",
       "847     <a href=\"http://twitter.com/download/iphone\" rel=\"nofollow\">Twitter for iPhone</a>\n",
       "1521    <a href=\"http://twitter.com/download/iphone\" rel=\"nofollow\">Twitter for iPhone</a>\n",
       "461     <a href=\"http://twitter.com/download/iphone\" rel=\"nofollow\">Twitter for iPhone</a>\n",
       "631     <a href=\"http://twitter.com/download/iphone\" rel=\"nofollow\">Twitter for iPhone</a>\n",
       "Name: source, dtype: object"
      ]
     },
     "execution_count": 238,
     "metadata": {},
     "output_type": "execute_result"
    }
   ],
   "source": [
    "twitter_archive_enhanced.source.sample(8)"
   ]
  },
  {
   "cell_type": "markdown",
   "metadata": {},
   "source": [
    "twitter_archive_enhanced的属性有以下：\n",
    "\n",
    "tweet_id：推特ID\n",
    "\n",
    "in_reply_to_status_id：回复ID\n",
    "\n",
    "in_reply_to_user_id：被回复推文原始用户ID\n",
    "\n",
    "timestamp：发tweet的时间戳\n",
    "\n",
    "source：tweet来源（移动端或web端）\n",
    "\n",
    "text：推文内容\n",
    "\n",
    "retweeted_status_id：转发ID\n",
    "\n",
    "retweeted_status_user_id：转发用户ID\n",
    "\n",
    "retweeted_status_timestamp：转发时间\n",
    "\n",
    "expanded_urls：推文链接\n",
    "\n",
    "rating_numerator：评分分子\n",
    "\n",
    "rating_denominator：评分分母\n",
    "\n",
    "name：狗狗的名字\n",
    "\n",
    "doggo：狗的成长阶段\n",
    "\n",
    "floofer：狗的成长阶段\n",
    "\n",
    "pupper：狗的成长阶段\n",
    "\n",
    "puppo: 狗的成长阶段"
   ]
  },
  {
   "cell_type": "code",
   "execution_count": 239,
   "metadata": {
    "scrolled": false
   },
   "outputs": [
    {
     "name": "stdout",
     "output_type": "stream",
     "text": [
      "<class 'pandas.core.frame.DataFrame'>\n",
      "RangeIndex: 2356 entries, 0 to 2355\n",
      "Data columns (total 17 columns):\n",
      "tweet_id                      2356 non-null int64\n",
      "in_reply_to_status_id         78 non-null float64\n",
      "in_reply_to_user_id           78 non-null float64\n",
      "timestamp                     2356 non-null object\n",
      "source                        2356 non-null object\n",
      "text                          2356 non-null object\n",
      "retweeted_status_id           181 non-null float64\n",
      "retweeted_status_user_id      181 non-null float64\n",
      "retweeted_status_timestamp    181 non-null object\n",
      "expanded_urls                 2297 non-null object\n",
      "rating_numerator              2356 non-null int64\n",
      "rating_denominator            2356 non-null int64\n",
      "name                          2356 non-null object\n",
      "doggo                         2356 non-null object\n",
      "floofer                       2356 non-null object\n",
      "pupper                        2356 non-null object\n",
      "puppo                         2356 non-null object\n",
      "dtypes: float64(4), int64(3), object(10)\n",
      "memory usage: 313.0+ KB\n"
     ]
    }
   ],
   "source": [
    "### 查看整体数据情况\n",
    "twitter_archive_enhanced.info()"
   ]
  },
  {
   "cell_type": "markdown",
   "metadata": {},
   "source": [
    "从info来看，twitter_archive_enhanced总共有2356条\n",
    "\n",
    "in_reply_to_status_id，in_reply_to_user_id只有78，数据缺失程度太大，建议去除\n",
    "\n",
    "timestamp的数据类型应该化成标准的时间格式，应进行数据转化\n",
    "\n",
    "retweeted_status_id，retweeted_status_user_id，retweeted_status_timestamp 只有181，数据缺失程度比较高，去除\n"
   ]
  },
  {
   "cell_type": "code",
   "execution_count": 240,
   "metadata": {},
   "outputs": [
    {
     "data": {
      "text/plain": [
       "1"
      ]
     },
     "execution_count": 240,
     "metadata": {},
     "output_type": "execute_result"
    }
   ],
   "source": [
    "twitter_archive_enhanced.tweet_id.value_counts().max()"
   ]
  },
  {
   "cell_type": "markdown",
   "metadata": {},
   "source": [
    "tweet_id 不存在重复的现象，可以当成主键"
   ]
  },
  {
   "cell_type": "code",
   "execution_count": 241,
   "metadata": {},
   "outputs": [
    {
     "data": {
      "text/plain": [
       "1262    2016-03-16 16:29:35 +0000\n",
       "1048    2016-06-16 01:25:36 +0000\n",
       "1422    2016-02-12 16:16:41 +0000\n",
       "732     2016-09-29 16:03:01 +0000\n",
       "1991    2015-12-04 03:43:54 +0000\n",
       "1431    2016-02-10 20:23:19 +0000\n",
       "1363    2016-02-25 19:04:13 +0000\n",
       "Name: timestamp, dtype: object"
      ]
     },
     "execution_count": 241,
     "metadata": {},
     "output_type": "execute_result"
    }
   ],
   "source": [
    "twitter_archive_enhanced.timestamp.sample(7)"
   ]
  },
  {
   "cell_type": "raw",
   "metadata": {},
   "source": [
    "查看timestamp，标准时间格式，进行数据转化即可。"
   ]
  },
  {
   "cell_type": "code",
   "execution_count": 242,
   "metadata": {
    "scrolled": true
   },
   "outputs": [
    {
     "data": {
      "text/plain": [
       "<a href=\"http://twitter.com/download/iphone\" rel=\"nofollow\">Twitter for iPhone</a>     2221\n",
       "<a href=\"http://vine.co\" rel=\"nofollow\">Vine - Make a Scene</a>                          91\n",
       "<a href=\"http://twitter.com\" rel=\"nofollow\">Twitter Web Client</a>                       33\n",
       "<a href=\"https://about.twitter.com/products/tweetdeck\" rel=\"nofollow\">TweetDeck</a>      11\n",
       "Name: source, dtype: int64"
      ]
     },
     "execution_count": 242,
     "metadata": {},
     "output_type": "execute_result"
    }
   ],
   "source": [
    "twitter_archive_enhanced.source.value_counts()"
   ]
  },
  {
   "cell_type": "raw",
   "metadata": {},
   "source": [
    "source保留着html标签,应去除html标签，不然太难看了吧。。"
   ]
  },
  {
   "cell_type": "code",
   "execution_count": 243,
   "metadata": {
    "scrolled": false
   },
   "outputs": [
    {
     "data": {
      "text/plain": [
       "1940               The millennials have spoken and we've decided to immediately demote to a 1/10. Thank you\n",
       "1761    Exotic pup here. Tail long af. Throat looks swollen. Might breathe fire. Exceptionally unfluffy ...\n",
       "2112    Two unbelievably athletic dogs here. Great form. Perfect execution. 10/10 for both https://t.co/...\n",
       "1965    This is Gerald. He's a fluffy lil yellow pup. Always looks like his favorite team just lost on a...\n",
       "969     This is Stewie. He will roundhouse kick anyone who questions his independence. 11/10 free af htt...\n",
       "665     This is Mosby. He appears to be rather h*ckin snuggable af. 12/10 keep it up Mosby https://t.co/...\n",
       "54      This is Gary. He couldn't miss this puppertunity for a selfie. Flawless focusing skills. 13/10 w...\n",
       "Name: text, dtype: object"
      ]
     },
     "execution_count": 243,
     "metadata": {},
     "output_type": "execute_result"
    }
   ],
   "source": [
    "twitter_archive_enhanced.text.sample(7)"
   ]
  },
  {
   "cell_type": "code",
   "execution_count": 244,
   "metadata": {},
   "outputs": [
    {
     "data": {
      "text/plain": [
       "1"
      ]
     },
     "execution_count": 244,
     "metadata": {},
     "output_type": "execute_result"
    }
   ],
   "source": [
    "twitter_archive_enhanced.text.value_counts().max()"
   ]
  },
  {
   "cell_type": "code",
   "execution_count": 245,
   "metadata": {},
   "outputs": [
    {
     "data": {
      "text/plain": [
       "<pandas.core.config.option_context at 0x7fd877746be0>"
      ]
     },
     "execution_count": 245,
     "metadata": {},
     "output_type": "execute_result"
    }
   ],
   "source": [
    "# pd.set_option('display.height', 1000)\n",
    "pd.set_option('display.max_rows', 500)\n",
    "pd.set_option('display.max_columns', 500)\n",
    "pd.set_option('display.width', 1000)\n",
    "pd.option_context('display.max_rows', None, 'display.max_columns', None)"
   ]
  },
  {
   "cell_type": "code",
   "execution_count": 246,
   "metadata": {},
   "outputs": [
    {
     "data": {
      "text/plain": [
       "(2356, 17)"
      ]
     },
     "execution_count": 246,
     "metadata": {},
     "output_type": "execute_result"
    }
   ],
   "source": [
    "import random\n",
    "random.randint(0,10)\n",
    "twitter_archive_enhanced.shape"
   ]
  },
  {
   "cell_type": "code",
   "execution_count": 247,
   "metadata": {},
   "outputs": [
    {
     "name": "stdout",
     "output_type": "stream",
     "text": [
      "Here's a doggo blowing bubbles. It's downright legendary. 13/10 would watch on repeat forever (vid by Kent Duryee) https://t.co/YcXgHfp1EC\n",
      "\n",
      "\n",
      "This is Wesley. He's clearly trespassing. Seems rather h*ckin violent too. Weaponized forehead. 3/10 wouldn't let in https://t.co/pL7wbMRW7M\n",
      "\n",
      "\n",
      "Yea I can't handle the cuteness anymore. Curls for days. 12/10 for all https://t.co/sAI6gCGZYX\n",
      "\n",
      "\n",
      "Say hello to Levi. He's a Madagascan Butterbop. One of the more docile Butterbops I've seen. 12/10 would give all the pets https://t.co/Zcw9Sccctc\n",
      "\n",
      "\n",
      "This is Toby. He asked for chocolate cake for his birthday but was given vanilla instead. 8/10 it'll be ok Toby https://t.co/sYi2G0he4H\n",
      "\n",
      "\n"
     ]
    }
   ],
   "source": [
    "for i in range(5):\n",
    "    print(twitter_archive_enhanced.text.loc[random.randint(0,twitter_archive_enhanced.shape[0])])\n",
    "    print(\"\\n\")"
   ]
  },
  {
   "cell_type": "raw",
   "metadata": {},
   "source": [
    "我们可以观察到，推文中有含狗狗的名字，很对狗狗的评价，以及评分，还有狗狗的相关信息的链接。\n",
    "不存在重复评论"
   ]
  },
  {
   "cell_type": "code",
   "execution_count": 248,
   "metadata": {},
   "outputs": [
    {
     "data": {
      "text/plain": [
       "2170                                        https://twitter.com/dog_rates/status/669351434509529089/photo/1\n",
       "333     https://twitter.com/dog_rates/status/832757312314028032/photo/1,https://twitter.com/dog_rates/st...\n",
       "186                                                                                                     NaN\n",
       "1344                                        https://twitter.com/dog_rates/status/704499785726889984/photo/1\n",
       "1279    https://twitter.com/dog_rates/status/708845821941387268/photo/1,https://twitter.com/dog_rates/st...\n",
       "72                                                   https://twitter.com/bbcworld/status/878599868507402241\n",
       "1186    https://twitter.com/dog_rates/status/718540630683709445/photo/1,https://twitter.com/dog_rates/st...\n",
       "Name: expanded_urls, dtype: object"
      ]
     },
     "execution_count": 248,
     "metadata": {},
     "output_type": "execute_result"
    }
   ],
   "source": [
    "twitter_archive_enhanced.expanded_urls.sample(7)"
   ]
  },
  {
   "cell_type": "code",
   "execution_count": 249,
   "metadata": {
    "scrolled": false
   },
   "outputs": [
    {
     "data": {
      "text/plain": [
       "10     2333\n",
       "11        3\n",
       "50        3\n",
       "80        2\n",
       "20        2\n",
       "2         1\n",
       "16        1\n",
       "40        1\n",
       "70        1\n",
       "15        1\n",
       "90        1\n",
       "110       1\n",
       "120       1\n",
       "130       1\n",
       "150       1\n",
       "170       1\n",
       "7         1\n",
       "0         1\n",
       "Name: rating_denominator, dtype: int64"
      ]
     },
     "execution_count": 249,
     "metadata": {},
     "output_type": "execute_result"
    }
   ],
   "source": [
    "twitter_archive_enhanced.rating_denominator.value_counts()"
   ]
  },
  {
   "cell_type": "raw",
   "metadata": {},
   "source": [
    "这是项目有提示的，但评分分母不为10，很令人困惑。"
   ]
  },
  {
   "cell_type": "code",
   "execution_count": null,
   "metadata": {},
   "outputs": [],
   "source": []
  },
  {
   "cell_type": "code",
   "execution_count": 250,
   "metadata": {},
   "outputs": [
    {
     "data": {
      "text/html": [
       "<div>\n",
       "<style scoped>\n",
       "    .dataframe tbody tr th:only-of-type {\n",
       "        vertical-align: middle;\n",
       "    }\n",
       "\n",
       "    .dataframe tbody tr th {\n",
       "        vertical-align: top;\n",
       "    }\n",
       "\n",
       "    .dataframe thead th {\n",
       "        text-align: right;\n",
       "    }\n",
       "</style>\n",
       "<table border=\"1\" class=\"dataframe\">\n",
       "  <thead>\n",
       "    <tr style=\"text-align: right;\">\n",
       "      <th></th>\n",
       "      <th>rating_numerator</th>\n",
       "      <th>rating_denominator</th>\n",
       "    </tr>\n",
       "  </thead>\n",
       "  <tbody>\n",
       "    <tr>\n",
       "      <th>313</th>\n",
       "      <td>960</td>\n",
       "      <td>0</td>\n",
       "    </tr>\n",
       "    <tr>\n",
       "      <th>342</th>\n",
       "      <td>11</td>\n",
       "      <td>15</td>\n",
       "    </tr>\n",
       "    <tr>\n",
       "      <th>433</th>\n",
       "      <td>84</td>\n",
       "      <td>70</td>\n",
       "    </tr>\n",
       "    <tr>\n",
       "      <th>516</th>\n",
       "      <td>24</td>\n",
       "      <td>7</td>\n",
       "    </tr>\n",
       "    <tr>\n",
       "      <th>784</th>\n",
       "      <td>9</td>\n",
       "      <td>11</td>\n",
       "    </tr>\n",
       "    <tr>\n",
       "      <th>902</th>\n",
       "      <td>165</td>\n",
       "      <td>150</td>\n",
       "    </tr>\n",
       "    <tr>\n",
       "      <th>1068</th>\n",
       "      <td>9</td>\n",
       "      <td>11</td>\n",
       "    </tr>\n",
       "    <tr>\n",
       "      <th>1120</th>\n",
       "      <td>204</td>\n",
       "      <td>170</td>\n",
       "    </tr>\n",
       "    <tr>\n",
       "      <th>1165</th>\n",
       "      <td>4</td>\n",
       "      <td>20</td>\n",
       "    </tr>\n",
       "    <tr>\n",
       "      <th>1202</th>\n",
       "      <td>50</td>\n",
       "      <td>50</td>\n",
       "    </tr>\n",
       "    <tr>\n",
       "      <th>1228</th>\n",
       "      <td>99</td>\n",
       "      <td>90</td>\n",
       "    </tr>\n",
       "    <tr>\n",
       "      <th>1254</th>\n",
       "      <td>80</td>\n",
       "      <td>80</td>\n",
       "    </tr>\n",
       "    <tr>\n",
       "      <th>1274</th>\n",
       "      <td>45</td>\n",
       "      <td>50</td>\n",
       "    </tr>\n",
       "    <tr>\n",
       "      <th>1351</th>\n",
       "      <td>60</td>\n",
       "      <td>50</td>\n",
       "    </tr>\n",
       "    <tr>\n",
       "      <th>1433</th>\n",
       "      <td>44</td>\n",
       "      <td>40</td>\n",
       "    </tr>\n",
       "    <tr>\n",
       "      <th>1598</th>\n",
       "      <td>4</td>\n",
       "      <td>20</td>\n",
       "    </tr>\n",
       "    <tr>\n",
       "      <th>1634</th>\n",
       "      <td>143</td>\n",
       "      <td>130</td>\n",
       "    </tr>\n",
       "    <tr>\n",
       "      <th>1635</th>\n",
       "      <td>121</td>\n",
       "      <td>110</td>\n",
       "    </tr>\n",
       "    <tr>\n",
       "      <th>1662</th>\n",
       "      <td>7</td>\n",
       "      <td>11</td>\n",
       "    </tr>\n",
       "    <tr>\n",
       "      <th>1663</th>\n",
       "      <td>20</td>\n",
       "      <td>16</td>\n",
       "    </tr>\n",
       "    <tr>\n",
       "      <th>1779</th>\n",
       "      <td>144</td>\n",
       "      <td>120</td>\n",
       "    </tr>\n",
       "    <tr>\n",
       "      <th>1843</th>\n",
       "      <td>88</td>\n",
       "      <td>80</td>\n",
       "    </tr>\n",
       "    <tr>\n",
       "      <th>2335</th>\n",
       "      <td>1</td>\n",
       "      <td>2</td>\n",
       "    </tr>\n",
       "  </tbody>\n",
       "</table>\n",
       "</div>"
      ],
      "text/plain": [
       "      rating_numerator  rating_denominator\n",
       "313                960                   0\n",
       "342                 11                  15\n",
       "433                 84                  70\n",
       "516                 24                   7\n",
       "784                  9                  11\n",
       "902                165                 150\n",
       "1068                 9                  11\n",
       "1120               204                 170\n",
       "1165                 4                  20\n",
       "1202                50                  50\n",
       "1228                99                  90\n",
       "1254                80                  80\n",
       "1274                45                  50\n",
       "1351                60                  50\n",
       "1433                44                  40\n",
       "1598                 4                  20\n",
       "1634               143                 130\n",
       "1635               121                 110\n",
       "1662                 7                  11\n",
       "1663                20                  16\n",
       "1779               144                 120\n",
       "1843                88                  80\n",
       "2335                 1                   2"
      ]
     },
     "execution_count": 250,
     "metadata": {},
     "output_type": "execute_result"
    }
   ],
   "source": [
    "rating_denominator=twitter_archive_enhanced.rating_denominator.value_counts()\n",
    "twitter_archive_enhanced.query(\"rating_denominator!=10\")[[\"rating_numerator\",\"rating_denominator\"]]"
   ]
  },
  {
   "cell_type": "raw",
   "metadata": {},
   "source": [
    "存在分子比分母大的情况，这是咋滴回事呐？好吧，项目背景有说明：如果分子评级超过分母评级，不需要进行清洗，\n",
    "根据项目背景知识，我们知道狗狗的名字和评分，都是数据提供者从tweet推文中抓取的。但分母不为10就比较困惑了。\n",
    "我们看看会不会是因为他正则表达式写不好的原因呢？"
   ]
  },
  {
   "cell_type": "code",
   "execution_count": 251,
   "metadata": {
    "scrolled": false
   },
   "outputs": [
    {
     "name": "stdout",
     "output_type": "stream",
     "text": [
      "@jonnysun @Lin_Manuel ok jomny I know you're excited but 960/00 isn't a valid rating, 13/10 is tho\n",
      "960\n",
      "0\n",
      "\n",
      "\n",
      "@docmisterio account started on 11/15/15\n",
      "11\n",
      "15\n",
      "\n",
      "\n",
      "The floofs have been released I repeat the floofs have been released. 84/70 https://t.co/NIYC820tmd\n",
      "84\n",
      "70\n",
      "\n",
      "\n",
      "Meet Sam. She smiles 24/7 &amp; secretly aspires to be a reindeer. \n",
      "Keep Sam smiling by clicking and sharing this link:\n",
      "https://t.co/98tB8y7y7t https://t.co/LouL5vdvxx\n",
      "24\n",
      "7\n",
      "\n",
      "\n",
      "RT @dog_rates: After so many requests, this is Bretagne. She was the last surviving 9/11 search dog, and our second ever 14/10. RIP https:/…\n",
      "9\n",
      "11\n",
      "\n",
      "\n",
      "Why does this never happen at my front door... 165/150 https://t.co/HmwrdfEfUE\n",
      "165\n",
      "150\n",
      "\n",
      "\n",
      "After so many requests, this is Bretagne. She was the last surviving 9/11 search dog, and our second ever 14/10. RIP https://t.co/XAVDNDaVgQ\n",
      "9\n",
      "11\n",
      "\n",
      "\n",
      "Say hello to this unbelievably well behaved squad of doggos. 204/170 would try to pet all at once https://t.co/yGQI3He3xv\n",
      "204\n",
      "170\n",
      "\n",
      "\n",
      "Happy 4/20 from the squad! 13/10 for all https://t.co/eV1diwds8a\n",
      "4\n",
      "20\n",
      "\n",
      "\n",
      "This is Bluebert. He just saw that both #FinalFur match ups are split 50/50. Amazed af. 11/10 https://t.co/Kky1DPG4iq\n",
      "50\n",
      "50\n",
      "\n",
      "\n",
      "Happy Saturday here's 9 puppers on a bench. 99/90 good work everybody https://t.co/mpvaVxKmc1\n",
      "99\n",
      "90\n",
      "\n",
      "\n",
      "Here's a brigade of puppers. All look very prepared for whatever happens next. 80/80 https://t.co/0eb7R1Om12\n",
      "80\n",
      "80\n",
      "\n",
      "\n",
      "From left to right:\n",
      "Cletus, Jerome, Alejandro, Burp, &amp; Titson\n",
      "None know where camera is. 45/50 would hug all at once https://t.co/sedre1ivTK\n",
      "45\n",
      "50\n",
      "\n",
      "\n",
      "Here is a whole flock of puppers.  60/50 I'll take the lot https://t.co/9dpcw6MdWa\n",
      "60\n",
      "50\n",
      "\n",
      "\n",
      "Happy Wednesday here's a bucket of pups. 44/40 would pet all at once https://t.co/HppvrYuamZ\n",
      "44\n",
      "40\n",
      "\n",
      "\n",
      "Yes I do realize a rating of 4/20 would've been fitting. However, it would be unjust to give these cooperative pups that low of a rating\n",
      "4\n",
      "20\n",
      "\n",
      "\n",
      "Two sneaky puppers were not initially seen, moving the rating to 143/130. Please forgive us. Thank you https://t.co/kRK51Y5ac3\n",
      "143\n",
      "130\n",
      "\n",
      "\n",
      "Someone help the girl is being mugged. Several are distracting her while two steal her shoes. Clever puppers 121/110 https://t.co/1zfnTJLt55\n",
      "121\n",
      "110\n",
      "\n",
      "\n",
      "This is Darrel. He just robbed a 7/11 and is in a high speed police chase. Was just spotted by the helicopter 10/10 https://t.co/7EsP8LmSp5\n",
      "7\n",
      "11\n",
      "\n",
      "\n",
      "I'm aware that I could've said 20/16, but here at WeRateDogs we are very professional. An inconsistent rating scale is simply irresponsible\n",
      "20\n",
      "16\n",
      "\n",
      "\n",
      "IT'S PUPPERGEDDON. Total of 144/120 ...I think https://t.co/ZanVtAtvIq\n",
      "144\n",
      "120\n",
      "\n",
      "\n",
      "Here we have an entire platoon of puppers. Total score: 88/80 would pet all at once https://t.co/y93p6FLvVw\n",
      "88\n",
      "80\n",
      "\n",
      "\n",
      "This is an Albanian 3 1/2 legged  Episcopalian. Loves well-polished hardwood flooring. Penis on the collar. 9/10 https://t.co/d9NcXFKwLv\n",
      "1\n",
      "2\n",
      "\n",
      "\n"
     ]
    }
   ],
   "source": [
    "index=twitter_archive_enhanced.query(\"rating_denominator!=10\")[[\"rating_numerator\",\"rating_denominator\"]].index\n",
    "for i in index:\n",
    "    print(twitter_archive_enhanced.text.loc[i])\n",
    "    print(twitter_archive_enhanced.rating_numerator.loc[i])\n",
    "    print(twitter_archive_enhanced.rating_denominator.loc[i])\n",
    "    print(\"\\n\")"
   ]
  },
  {
   "cell_type": "raw",
   "metadata": {},
   "source": [
    "确实是信息提取的问题。"
   ]
  },
  {
   "cell_type": "code",
   "execution_count": 252,
   "metadata": {
    "scrolled": true
   },
   "outputs": [
    {
     "data": {
      "text/plain": [
       "12      558\n",
       "11      464\n",
       "10      461\n",
       "13      351\n",
       "9       158\n",
       "8       102\n",
       "7        55\n",
       "14       54\n",
       "5        37\n",
       "6        32\n",
       "3        19\n",
       "4        17\n",
       "1         9\n",
       "2         9\n",
       "420       2\n",
       "0         2\n",
       "15        2\n",
       "75        2\n",
       "80        1\n",
       "20        1\n",
       "24        1\n",
       "26        1\n",
       "44        1\n",
       "50        1\n",
       "60        1\n",
       "165       1\n",
       "84        1\n",
       "88        1\n",
       "144       1\n",
       "182       1\n",
       "143       1\n",
       "666       1\n",
       "960       1\n",
       "1776      1\n",
       "17        1\n",
       "27        1\n",
       "45        1\n",
       "99        1\n",
       "121       1\n",
       "204       1\n",
       "Name: rating_numerator, dtype: int64"
      ]
     },
     "execution_count": 252,
     "metadata": {},
     "output_type": "execute_result"
    }
   ],
   "source": [
    "twitter_archive_enhanced.rating_numerator.value_counts()"
   ]
  },
  {
   "cell_type": "code",
   "execution_count": 253,
   "metadata": {
    "scrolled": true
   },
   "outputs": [
    {
     "data": {
      "text/html": [
       "<div>\n",
       "<style scoped>\n",
       "    .dataframe tbody tr th:only-of-type {\n",
       "        vertical-align: middle;\n",
       "    }\n",
       "\n",
       "    .dataframe tbody tr th {\n",
       "        vertical-align: top;\n",
       "    }\n",
       "\n",
       "    .dataframe thead th {\n",
       "        text-align: right;\n",
       "    }\n",
       "</style>\n",
       "<table border=\"1\" class=\"dataframe\">\n",
       "  <thead>\n",
       "    <tr style=\"text-align: right;\">\n",
       "      <th></th>\n",
       "      <th>rating_numerator</th>\n",
       "      <th>rating_denominator</th>\n",
       "    </tr>\n",
       "  </thead>\n",
       "  <tbody>\n",
       "    <tr>\n",
       "      <th>1849</th>\n",
       "      <td>11</td>\n",
       "      <td>10</td>\n",
       "    </tr>\n",
       "    <tr>\n",
       "      <th>1115</th>\n",
       "      <td>11</td>\n",
       "      <td>10</td>\n",
       "    </tr>\n",
       "    <tr>\n",
       "      <th>2010</th>\n",
       "      <td>10</td>\n",
       "      <td>10</td>\n",
       "    </tr>\n",
       "    <tr>\n",
       "      <th>1225</th>\n",
       "      <td>10</td>\n",
       "      <td>10</td>\n",
       "    </tr>\n",
       "    <tr>\n",
       "      <th>98</th>\n",
       "      <td>12</td>\n",
       "      <td>10</td>\n",
       "    </tr>\n",
       "    <tr>\n",
       "      <th>753</th>\n",
       "      <td>13</td>\n",
       "      <td>10</td>\n",
       "    </tr>\n",
       "    <tr>\n",
       "      <th>1015</th>\n",
       "      <td>11</td>\n",
       "      <td>10</td>\n",
       "    </tr>\n",
       "    <tr>\n",
       "      <th>278</th>\n",
       "      <td>12</td>\n",
       "      <td>10</td>\n",
       "    </tr>\n",
       "    <tr>\n",
       "      <th>1138</th>\n",
       "      <td>12</td>\n",
       "      <td>10</td>\n",
       "    </tr>\n",
       "    <tr>\n",
       "      <th>1152</th>\n",
       "      <td>11</td>\n",
       "      <td>10</td>\n",
       "    </tr>\n",
       "  </tbody>\n",
       "</table>\n",
       "</div>"
      ],
      "text/plain": [
       "      rating_numerator  rating_denominator\n",
       "1849                11                  10\n",
       "1115                11                  10\n",
       "2010                10                  10\n",
       "1225                10                  10\n",
       "98                  12                  10\n",
       "753                 13                  10\n",
       "1015                11                  10\n",
       "278                 12                  10\n",
       "1138                12                  10\n",
       "1152                11                  10"
      ]
     },
     "execution_count": 253,
     "metadata": {},
     "output_type": "execute_result"
    }
   ],
   "source": [
    "twitter_archive_enhanced[[\"rating_numerator\",\"rating_denominator\"]].sample(10)"
   ]
  },
  {
   "cell_type": "code",
   "execution_count": 254,
   "metadata": {},
   "outputs": [
    {
     "data": {
      "text/plain": [
       "0.97623089983022071"
      ]
     },
     "execution_count": 254,
     "metadata": {},
     "output_type": "execute_result"
    }
   ],
   "source": [
    "twitter_archive_enhanced.query(\"rating_denominator != 10\").rating_denominator.count()/twitter_archive_enhanced.rating_denominator.count() * 100"
   ]
  },
  {
   "cell_type": "code",
   "execution_count": 255,
   "metadata": {},
   "outputs": [
    {
     "data": {
      "text/plain": [
       "61.587436332767396"
      ]
     },
     "execution_count": 255,
     "metadata": {},
     "output_type": "execute_result"
    }
   ],
   "source": [
    "twitter_archive_enhanced.query(\"rating_numerator > rating_denominator\").rating_denominator.count()/twitter_archive_enhanced.rating_denominator.count() * 100"
   ]
  },
  {
   "cell_type": "raw",
   "metadata": {},
   "source": [
    "通过观察rating_numerator，rating_denominator，我们发现\n",
    "1. 存在rating_denominator 不为10的情况，占总比例0.98%，对该类型数据去除\n",
    "2. 存在rating_numerator > rating_denominator 情况,占总比例的61.59%，\n",
    "按猜想，应该是喜爱狗狗的人在对狗狗进行评分时没有看到评分级别，打的分数超过了最高分。"
   ]
  },
  {
   "cell_type": "code",
   "execution_count": 256,
   "metadata": {
    "scrolled": true
   },
   "outputs": [
    {
     "data": {
      "text/plain": [
       "None            745\n",
       "a                55\n",
       "Charlie          12\n",
       "Cooper           11\n",
       "Lucy             11\n",
       "Oliver           11\n",
       "Lola             10\n",
       "Penny            10\n",
       "Tucker           10\n",
       "Bo                9\n",
       "Winston           9\n",
       "the               8\n",
       "Sadie             8\n",
       "Daisy             7\n",
       "Buddy             7\n",
       "an                7\n",
       "Toby              7\n",
       "Bailey            7\n",
       "Rusty             6\n",
       "Dave              6\n",
       "Bella             6\n",
       "Jack              6\n",
       "Scout             6\n",
       "Milo              6\n",
       "Koda              6\n",
       "Leo               6\n",
       "Jax               6\n",
       "Oscar             6\n",
       "Stanley           6\n",
       "Louis             5\n",
       "Bentley           5\n",
       "Gus               5\n",
       "Alfie             5\n",
       "Larry             5\n",
       "Oakley            5\n",
       "Phil              5\n",
       "Sammy             5\n",
       "Finn              5\n",
       "George            5\n",
       "very              5\n",
       "Chester           5\n",
       "Sunny             5\n",
       "Maddie            4\n",
       "Loki              4\n",
       "Jerry             4\n",
       "just              4\n",
       "Riley             4\n",
       "Clarence          4\n",
       "Clark             4\n",
       "Duke              4\n",
       "Shadow            4\n",
       "Archie            4\n",
       "Sophie            4\n",
       "Jeffrey           4\n",
       "Chip              4\n",
       "Scooter           4\n",
       "Reggie            4\n",
       "Maggie            4\n",
       "Luna              4\n",
       "Cassie            4\n",
       "Winnie            4\n",
       "Boomer            4\n",
       "Hank              4\n",
       "Carl              4\n",
       "Brody             4\n",
       "Derek             4\n",
       "Beau              4\n",
       "quite             4\n",
       "Moose             4\n",
       "Gerald            4\n",
       "Walter            4\n",
       "Dexter            4\n",
       "Bruce             4\n",
       "Ruby              4\n",
       "Maximus           4\n",
       "Gary              4\n",
       "Bear              4\n",
       "one               4\n",
       "Sampson           4\n",
       "Reginald          4\n",
       "Sebastian         3\n",
       "Lorenzo           3\n",
       "Paisley           3\n",
       "Jimothy           3\n",
       "Nala              3\n",
       "Zoey              3\n",
       "Wallace           3\n",
       "Mia               3\n",
       "Max               3\n",
       "Lily              3\n",
       "Ellie             3\n",
       "Vincent           3\n",
       "Waffles           3\n",
       "Wilson            3\n",
       "Arnie             3\n",
       "Otis              3\n",
       "Steven            3\n",
       "Ted               3\n",
       "Calvin            3\n",
       "Coco              3\n",
       "Peaches           3\n",
       "Rosie             3\n",
       "Colby             3\n",
       "Reese             3\n",
       "Frankie           3\n",
       "Gizmo             3\n",
       "Louie             3\n",
       "Samson            3\n",
       "Wyatt             3\n",
       "Earl              3\n",
       "Olive             3\n",
       "Klevin            3\n",
       "Rory              3\n",
       "Kyle              3\n",
       "Zeke              3\n",
       "Malcolm           3\n",
       "Doug              3\n",
       "Terry             2\n",
       "Logan             2\n",
       "Moreton           2\n",
       "Pippa             2\n",
       "Ken               2\n",
       "Sandy             2\n",
       "Pipsy             2\n",
       "Hunter            2\n",
       "Kevin             2\n",
       "Atlas             2\n",
       "Juno              2\n",
       "Gromit            2\n",
       "Penelope          2\n",
       "Cash              2\n",
       "Timison           2\n",
       "Davey             2\n",
       "Harper            2\n",
       "Romeo             2\n",
       "Carly             2\n",
       "Piper             2\n",
       "getting           2\n",
       "Jamesy            2\n",
       "Solomon           2\n",
       "Django            2\n",
       "Herschel          2\n",
       "Cupcake           2\n",
       "Sierra            2\n",
       "Ava               2\n",
       "Bob               2\n",
       "Chelsea           2\n",
       "Kenny             2\n",
       "Ollie             2\n",
       "Hobbes            2\n",
       "Quinn             2\n",
       "Benedict          2\n",
       "Jeph              2\n",
       "CeCe              2\n",
       "Abby              2\n",
       "Leela             2\n",
       "Jesse             2\n",
       "Phred             2\n",
       "Seamus            2\n",
       "Sarge             2\n",
       "Kreg              2\n",
       "Misty             2\n",
       "Churlie           2\n",
       "Charles           2\n",
       "Franklin          2\n",
       "Watson            2\n",
       "Nelly             2\n",
       "Betty             2\n",
       "Flávio            2\n",
       "mad               2\n",
       "Terrance          2\n",
       "Frank             2\n",
       "Lenny             2\n",
       "Keith             2\n",
       "Rocky             2\n",
       "Benji             2\n",
       "Fizz              2\n",
       "Aspen             2\n",
       "Dash              2\n",
       "Lennon            2\n",
       "Belle             2\n",
       "Trooper           2\n",
       "not               2\n",
       "Raymond           2\n",
       "Alice             2\n",
       "Bungalo           2\n",
       "Maxaroni          2\n",
       "Griffin           2\n",
       "Emmy              2\n",
       "Gidget            2\n",
       "Levi              2\n",
       "Coops             2\n",
       "Eve               2\n",
       "Hammond           2\n",
       "Bernie            2\n",
       "Dakota            2\n",
       "Mister            2\n",
       "Sansa             2\n",
       "Olivia            2\n",
       "Chipson           2\n",
       "Mattie            2\n",
       "Nollie            2\n",
       "Gabe              2\n",
       "actually          2\n",
       "Fiona             2\n",
       "Lincoln           2\n",
       "Luca              2\n",
       "Roosevelt         2\n",
       "Pickles           2\n",
       "Baxter            2\n",
       "Hurley            2\n",
       "Patrick           2\n",
       "Hercules          2\n",
       "Odie              2\n",
       "Kreggory          2\n",
       "Jackson           2\n",
       "Oliviér           2\n",
       "Crystal           2\n",
       "Keurig            2\n",
       "Axel              2\n",
       "Ozzy              2\n",
       "Lou               2\n",
       "Moe               2\n",
       "Remington         2\n",
       "Rubio             2\n",
       "Opal              2\n",
       "Stephan           2\n",
       "Wally             2\n",
       "Stubert           2\n",
       "Jimison           2\n",
       "Rizzy             2\n",
       "Theodore          2\n",
       "Bisquick          2\n",
       "Tyr               2\n",
       "Rufus             2\n",
       "Shaggy            2\n",
       "Pablo             2\n",
       "Percy             2\n",
       "Cali              2\n",
       "Ash               2\n",
       "Anakin            2\n",
       "Smokey            2\n",
       "Albert            2\n",
       "Linda             2\n",
       "Sugar             2\n",
       "Balto             2\n",
       "Meyer             2\n",
       "Philbert          2\n",
       "Kenneth           2\n",
       "Bell              2\n",
       "               ... \n",
       "Milky             1\n",
       "Naphaniel         1\n",
       "Bode              1\n",
       "Shawwn            1\n",
       "Monty             1\n",
       "Hazel             1\n",
       "Pluto             1\n",
       "Swagger           1\n",
       "Tess              1\n",
       "Raphael           1\n",
       "Bloop             1\n",
       "Jazz              1\n",
       "Remy              1\n",
       "Kawhi             1\n",
       "Timber            1\n",
       "Kevon             1\n",
       "Obie              1\n",
       "Barclay           1\n",
       "Shooter           1\n",
       "Pinot             1\n",
       "Mojo              1\n",
       "Roscoe            1\n",
       "Flurpson          1\n",
       "Trip              1\n",
       "Tuck              1\n",
       "Sora              1\n",
       "Nida              1\n",
       "Zoe               1\n",
       "Rambo             1\n",
       "Dewey             1\n",
       "Furzey            1\n",
       "Schnitzel         1\n",
       "Geoff             1\n",
       "Bertson           1\n",
       "Mason             1\n",
       "Ike               1\n",
       "Alf               1\n",
       "Kane              1\n",
       "Tupawc            1\n",
       "Tug               1\n",
       "Bobb              1\n",
       "Maks              1\n",
       "Emma              1\n",
       "Kara              1\n",
       "Ito               1\n",
       "Banjo             1\n",
       "Edd               1\n",
       "Bluebert          1\n",
       "Buckley           1\n",
       "Billl             1\n",
       "Jimbo             1\n",
       "Tobi              1\n",
       "Skittle           1\n",
       "Crouton           1\n",
       "Jay               1\n",
       "Rumble            1\n",
       "Gustaf            1\n",
       "Crawford          1\n",
       "Sojourner         1\n",
       "Jeffri            1\n",
       "Tove              1\n",
       "Fynn              1\n",
       "Staniel           1\n",
       "Rinna             1\n",
       "Arya              1\n",
       "Cheryl            1\n",
       "Nugget            1\n",
       "Meera             1\n",
       "Laika             1\n",
       "Leonidas          1\n",
       "Lambeau           1\n",
       "Holly             1\n",
       "Wiggles           1\n",
       "Mitch             1\n",
       "Callie            1\n",
       "Murphy            1\n",
       "Kaia              1\n",
       "Eriq              1\n",
       "Stewie            1\n",
       "Brat              1\n",
       "life              1\n",
       "Millie            1\n",
       "Dwight            1\n",
       "Rorie             1\n",
       "Dixie             1\n",
       "Darby             1\n",
       "Harry             1\n",
       "Ronnie            1\n",
       "Frönq             1\n",
       "Bobby             1\n",
       "Kloey             1\n",
       "Jackie            1\n",
       "Dotsy             1\n",
       "Alexander         1\n",
       "Maya              1\n",
       "Travis            1\n",
       "Beebop            1\n",
       "Ruffles           1\n",
       "Lilli             1\n",
       "Sailer            1\n",
       "Socks             1\n",
       "Mosby             1\n",
       "Duchess           1\n",
       "Pherb             1\n",
       "Goose             1\n",
       "Jebberson         1\n",
       "Bayley            1\n",
       "Bubba             1\n",
       "Crimson           1\n",
       "Spanky            1\n",
       "Pete              1\n",
       "Jennifur          1\n",
       "Bilbo             1\n",
       "Banditt           1\n",
       "Ferg              1\n",
       "Rose              1\n",
       "Poppy             1\n",
       "unacceptable      1\n",
       "Mo                1\n",
       "Biden             1\n",
       "Lulu              1\n",
       "Kirk              1\n",
       "Shakespeare       1\n",
       "Marvin            1\n",
       "Franq             1\n",
       "Skye              1\n",
       "Koko              1\n",
       "Duddles           1\n",
       "Glacier           1\n",
       "Beckham           1\n",
       "officially        1\n",
       "Miley             1\n",
       "Coleman           1\n",
       "Reptar            1\n",
       "Godzilla          1\n",
       "Bowie             1\n",
       "Ole               1\n",
       "Luther            1\n",
       "Gin               1\n",
       "space             1\n",
       "Grizzwald         1\n",
       "Blue              1\n",
       "Emanuel           1\n",
       "Napolean          1\n",
       "Kulet             1\n",
       "Zara              1\n",
       "Striker           1\n",
       "O                 1\n",
       "Peanut            1\n",
       "Kellogg           1\n",
       "Arnold            1\n",
       "Izzy              1\n",
       "Willie            1\n",
       "Jim               1\n",
       "Hall              1\n",
       "Tayzie            1\n",
       "Kaiya             1\n",
       "Pumpkin           1\n",
       "Eugene            1\n",
       "Lassie            1\n",
       "Jeb               1\n",
       "Angel             1\n",
       "General           1\n",
       "Carper            1\n",
       "Petrick           1\n",
       "Hector            1\n",
       "Derby             1\n",
       "Butters           1\n",
       "Rodman            1\n",
       "Erik              1\n",
       "Malikai           1\n",
       "Herb              1\n",
       "Sobe              1\n",
       "Lupe              1\n",
       "Blu               1\n",
       "Harnold           1\n",
       "Hanz              1\n",
       "Mack              1\n",
       "Venti             1\n",
       "Huck              1\n",
       "Oreo              1\n",
       "Gustav            1\n",
       "Gert              1\n",
       "Geno              1\n",
       "Willow            1\n",
       "Eazy              1\n",
       "Dobby             1\n",
       "Marty             1\n",
       "Lillie            1\n",
       "Pupcasso          1\n",
       "Combo             1\n",
       "Stark             1\n",
       "Hamrick           1\n",
       "Grizzie           1\n",
       "Dale              1\n",
       "Fwed              1\n",
       "Ralpher           1\n",
       "Mingus            1\n",
       "Gòrdón            1\n",
       "Theo              1\n",
       "Ginger            1\n",
       "Aqua              1\n",
       "Jersey            1\n",
       "Acro              1\n",
       "Kayla             1\n",
       "Sage              1\n",
       "Beemo             1\n",
       "Carll             1\n",
       "Dudley            1\n",
       "Amélie            1\n",
       "Batdog            1\n",
       "Ebby              1\n",
       "Tilly             1\n",
       "Cuddles           1\n",
       "Godi              1\n",
       "Aldrick           1\n",
       "Stephanus         1\n",
       "Lorelei           1\n",
       "Diogi             1\n",
       "Julius            1\n",
       "Blakely           1\n",
       "Samsom            1\n",
       "Rueben            1\n",
       "Jangle            1\n",
       "Griswold          1\n",
       "Halo              1\n",
       "Tassy             1\n",
       "Zooey             1\n",
       "BeBe              1\n",
       "Noosh             1\n",
       "Tater             1\n",
       "Gunner            1\n",
       "Benny             1\n",
       "Ashleigh          1\n",
       "Timmy             1\n",
       "Ziva              1\n",
       "Al                1\n",
       "DayZ              1\n",
       "Farfle            1\n",
       "Doobert           1\n",
       "William           1\n",
       "Brandi            1\n",
       "Birf              1\n",
       "Kobe              1\n",
       "Shnuggles         1\n",
       "Lucia             1\n",
       "Vinnie            1\n",
       "Tedrick           1\n",
       "Mary              1\n",
       "Humphrey          1\n",
       "Name: name, Length: 957, dtype: int64"
      ]
     },
     "execution_count": 256,
     "metadata": {},
     "output_type": "execute_result"
    }
   ],
   "source": [
    "twitter_archive_enhanced.name.value_counts()"
   ]
  },
  {
   "cell_type": "raw",
   "metadata": {},
   "source": [
    "None 出现了好多次，好多狗狗没有名字嘛？\n",
    "出现了类似“a”,\"an\"的狗狗名字，那么多狗主人给狗狗叫这么随性的名字吗？\n",
    "很明显应该不是吧，估计又是信息提取错误。"
   ]
  },
  {
   "cell_type": "code",
   "execution_count": 257,
   "metadata": {
    "scrolled": true
   },
   "outputs": [
    {
     "name": "stdout",
     "output_type": "stream",
     "text": [
      "RT @dog_rates: This is an East African Chalupa Seal. We only rate dogs. Please only send in dogs. Thank you... 10/10 https://t.co/iHe6liLwWR\n",
      "an\n",
      "\n",
      "\n",
      "This is an Iraqi Speed Kangaroo. It is not a dog. Please only send in dogs. I'm very angry with all of you ...9/10 https://t.co/5qpBTTpgUt\n",
      "an\n",
      "\n",
      "\n",
      "This is an East African Chalupa Seal. We only rate dogs. Please only send in dogs. Thank you... 10/10 https://t.co/iHe6liLwWR\n",
      "an\n",
      "\n",
      "\n",
      "This is an Irish Rigatoni terrier named Berta. Completely made of rope. No eyes. Quite large. Loves to dance. 10/10 https://t.co/EM5fDykrJg\n",
      "an\n",
      "\n",
      "\n",
      "This is an extremely rare horned Parthenon. Not amused. Wears shoes. Overall very nice. 9/10 would pet aggressively https://t.co/QpRjllzWAL\n",
      "an\n",
      "\n",
      "\n",
      "This is an Albanian 3 1/2 legged  Episcopalian. Loves well-polished hardwood flooring. Penis on the collar. 9/10 https://t.co/d9NcXFKwLv\n",
      "an\n",
      "\n",
      "\n",
      "This is an odd dog. Hard on the outside but loving on the inside. Petting still fun. Doesn't play catch well. 2/10 https://t.co/v5A4vzSDdc\n",
      "an\n",
      "\n",
      "\n"
     ]
    }
   ],
   "source": [
    "index=twitter_archive_enhanced.query(\"name=='an'\").index\n",
    "for i in index:\n",
    "    print(twitter_archive_enhanced.text.loc[i])\n",
    "    print(twitter_archive_enhanced.name.loc[i])\n",
    "    print(\"\\n\")"
   ]
  },
  {
   "cell_type": "raw",
   "metadata": {},
   "source": [
    "果然在狗狗名字信息提出上有错误。"
   ]
  },
  {
   "cell_type": "code",
   "execution_count": 258,
   "metadata": {
    "scrolled": false
   },
   "outputs": [
    {
     "data": {
      "text/html": [
       "<div>\n",
       "<style scoped>\n",
       "    .dataframe tbody tr th:only-of-type {\n",
       "        vertical-align: middle;\n",
       "    }\n",
       "\n",
       "    .dataframe tbody tr th {\n",
       "        vertical-align: top;\n",
       "    }\n",
       "\n",
       "    .dataframe thead th {\n",
       "        text-align: right;\n",
       "    }\n",
       "</style>\n",
       "<table border=\"1\" class=\"dataframe\">\n",
       "  <thead>\n",
       "    <tr style=\"text-align: right;\">\n",
       "      <th></th>\n",
       "      <th>doggo</th>\n",
       "      <th>floofer</th>\n",
       "      <th>pupper</th>\n",
       "      <th>puppo</th>\n",
       "    </tr>\n",
       "  </thead>\n",
       "  <tbody>\n",
       "    <tr>\n",
       "      <th>749</th>\n",
       "      <td>None</td>\n",
       "      <td>None</td>\n",
       "      <td>None</td>\n",
       "      <td>None</td>\n",
       "    </tr>\n",
       "    <tr>\n",
       "      <th>1164</th>\n",
       "      <td>None</td>\n",
       "      <td>None</td>\n",
       "      <td>None</td>\n",
       "      <td>None</td>\n",
       "    </tr>\n",
       "    <tr>\n",
       "      <th>1527</th>\n",
       "      <td>None</td>\n",
       "      <td>None</td>\n",
       "      <td>None</td>\n",
       "      <td>None</td>\n",
       "    </tr>\n",
       "    <tr>\n",
       "      <th>47</th>\n",
       "      <td>None</td>\n",
       "      <td>None</td>\n",
       "      <td>None</td>\n",
       "      <td>None</td>\n",
       "    </tr>\n",
       "    <tr>\n",
       "      <th>514</th>\n",
       "      <td>None</td>\n",
       "      <td>None</td>\n",
       "      <td>None</td>\n",
       "      <td>None</td>\n",
       "    </tr>\n",
       "    <tr>\n",
       "      <th>2152</th>\n",
       "      <td>None</td>\n",
       "      <td>None</td>\n",
       "      <td>None</td>\n",
       "      <td>None</td>\n",
       "    </tr>\n",
       "    <tr>\n",
       "      <th>613</th>\n",
       "      <td>None</td>\n",
       "      <td>None</td>\n",
       "      <td>None</td>\n",
       "      <td>None</td>\n",
       "    </tr>\n",
       "    <tr>\n",
       "      <th>1963</th>\n",
       "      <td>None</td>\n",
       "      <td>None</td>\n",
       "      <td>None</td>\n",
       "      <td>None</td>\n",
       "    </tr>\n",
       "  </tbody>\n",
       "</table>\n",
       "</div>"
      ],
      "text/plain": [
       "     doggo floofer pupper puppo\n",
       "749   None    None   None  None\n",
       "1164  None    None   None  None\n",
       "1527  None    None   None  None\n",
       "47    None    None   None  None\n",
       "514   None    None   None  None\n",
       "2152  None    None   None  None\n",
       "613   None    None   None  None\n",
       "1963  None    None   None  None"
      ]
     },
     "execution_count": 258,
     "metadata": {},
     "output_type": "execute_result"
    }
   ],
   "source": [
    "twitter_archive_enhanced[[\"doggo\",\"floofer\",\"pupper\",\"puppo\"]].sample(8)"
   ]
  },
  {
   "cell_type": "raw",
   "metadata": {},
   "source": [
    "很明显，\"doggo\",\"floofer\",\"pupper\",\"puppo\"，属于狗狗的生长状态，他这样子处理是为了把狗狗生长状态独热编码嘛？\n",
    "这四个属性应该合并成一个属性。"
   ]
  },
  {
   "cell_type": "code",
   "execution_count": 259,
   "metadata": {
    "scrolled": false
   },
   "outputs": [
    {
     "data": {
      "text/html": [
       "<div>\n",
       "<style scoped>\n",
       "    .dataframe tbody tr th:only-of-type {\n",
       "        vertical-align: middle;\n",
       "    }\n",
       "\n",
       "    .dataframe tbody tr th {\n",
       "        vertical-align: top;\n",
       "    }\n",
       "\n",
       "    .dataframe thead th {\n",
       "        text-align: right;\n",
       "    }\n",
       "</style>\n",
       "<table border=\"1\" class=\"dataframe\">\n",
       "  <thead>\n",
       "    <tr style=\"text-align: right;\">\n",
       "      <th></th>\n",
       "      <th>tweet_id</th>\n",
       "      <th>jpg_url</th>\n",
       "      <th>img_num</th>\n",
       "      <th>p1</th>\n",
       "      <th>p1_conf</th>\n",
       "      <th>p1_dog</th>\n",
       "      <th>p2</th>\n",
       "      <th>p2_conf</th>\n",
       "      <th>p2_dog</th>\n",
       "      <th>p3</th>\n",
       "      <th>p3_conf</th>\n",
       "      <th>p3_dog</th>\n",
       "    </tr>\n",
       "  </thead>\n",
       "  <tbody>\n",
       "    <tr>\n",
       "      <th>0</th>\n",
       "      <td>666020888022790149</td>\n",
       "      <td>https://pbs.twimg.com/media/CT4udn0WwAA0aMy.jpg</td>\n",
       "      <td>1</td>\n",
       "      <td>Welsh_springer_spaniel</td>\n",
       "      <td>0.465074</td>\n",
       "      <td>True</td>\n",
       "      <td>collie</td>\n",
       "      <td>0.156665</td>\n",
       "      <td>True</td>\n",
       "      <td>Shetland_sheepdog</td>\n",
       "      <td>0.061428</td>\n",
       "      <td>True</td>\n",
       "    </tr>\n",
       "    <tr>\n",
       "      <th>1</th>\n",
       "      <td>666029285002620928</td>\n",
       "      <td>https://pbs.twimg.com/media/CT42GRgUYAA5iDo.jpg</td>\n",
       "      <td>1</td>\n",
       "      <td>redbone</td>\n",
       "      <td>0.506826</td>\n",
       "      <td>True</td>\n",
       "      <td>miniature_pinscher</td>\n",
       "      <td>0.074192</td>\n",
       "      <td>True</td>\n",
       "      <td>Rhodesian_ridgeback</td>\n",
       "      <td>0.072010</td>\n",
       "      <td>True</td>\n",
       "    </tr>\n",
       "    <tr>\n",
       "      <th>2</th>\n",
       "      <td>666033412701032449</td>\n",
       "      <td>https://pbs.twimg.com/media/CT4521TWwAEvMyu.jpg</td>\n",
       "      <td>1</td>\n",
       "      <td>German_shepherd</td>\n",
       "      <td>0.596461</td>\n",
       "      <td>True</td>\n",
       "      <td>malinois</td>\n",
       "      <td>0.138584</td>\n",
       "      <td>True</td>\n",
       "      <td>bloodhound</td>\n",
       "      <td>0.116197</td>\n",
       "      <td>True</td>\n",
       "    </tr>\n",
       "    <tr>\n",
       "      <th>3</th>\n",
       "      <td>666044226329800704</td>\n",
       "      <td>https://pbs.twimg.com/media/CT5Dr8HUEAA-lEu.jpg</td>\n",
       "      <td>1</td>\n",
       "      <td>Rhodesian_ridgeback</td>\n",
       "      <td>0.408143</td>\n",
       "      <td>True</td>\n",
       "      <td>redbone</td>\n",
       "      <td>0.360687</td>\n",
       "      <td>True</td>\n",
       "      <td>miniature_pinscher</td>\n",
       "      <td>0.222752</td>\n",
       "      <td>True</td>\n",
       "    </tr>\n",
       "    <tr>\n",
       "      <th>4</th>\n",
       "      <td>666049248165822465</td>\n",
       "      <td>https://pbs.twimg.com/media/CT5IQmsXIAAKY4A.jpg</td>\n",
       "      <td>1</td>\n",
       "      <td>miniature_pinscher</td>\n",
       "      <td>0.560311</td>\n",
       "      <td>True</td>\n",
       "      <td>Rottweiler</td>\n",
       "      <td>0.243682</td>\n",
       "      <td>True</td>\n",
       "      <td>Doberman</td>\n",
       "      <td>0.154629</td>\n",
       "      <td>True</td>\n",
       "    </tr>\n",
       "  </tbody>\n",
       "</table>\n",
       "</div>"
      ],
      "text/plain": [
       "             tweet_id                                          jpg_url  img_num                      p1   p1_conf  p1_dog                  p2   p2_conf  p2_dog                   p3   p3_conf  p3_dog\n",
       "0  666020888022790149  https://pbs.twimg.com/media/CT4udn0WwAA0aMy.jpg        1  Welsh_springer_spaniel  0.465074    True              collie  0.156665    True    Shetland_sheepdog  0.061428    True\n",
       "1  666029285002620928  https://pbs.twimg.com/media/CT42GRgUYAA5iDo.jpg        1                 redbone  0.506826    True  miniature_pinscher  0.074192    True  Rhodesian_ridgeback  0.072010    True\n",
       "2  666033412701032449  https://pbs.twimg.com/media/CT4521TWwAEvMyu.jpg        1         German_shepherd  0.596461    True            malinois  0.138584    True           bloodhound  0.116197    True\n",
       "3  666044226329800704  https://pbs.twimg.com/media/CT5Dr8HUEAA-lEu.jpg        1     Rhodesian_ridgeback  0.408143    True             redbone  0.360687    True   miniature_pinscher  0.222752    True\n",
       "4  666049248165822465  https://pbs.twimg.com/media/CT5IQmsXIAAKY4A.jpg        1      miniature_pinscher  0.560311    True          Rottweiler  0.243682    True             Doberman  0.154629    True"
      ]
     },
     "execution_count": 259,
     "metadata": {},
     "output_type": "execute_result"
    }
   ],
   "source": [
    "image_predictions.head(5)"
   ]
  },
  {
   "cell_type": "code",
   "execution_count": 260,
   "metadata": {
    "scrolled": true
   },
   "outputs": [
    {
     "name": "stdout",
     "output_type": "stream",
     "text": [
      "<class 'pandas.core.frame.DataFrame'>\n",
      "RangeIndex: 2075 entries, 0 to 2074\n",
      "Data columns (total 12 columns):\n",
      "tweet_id    2075 non-null int64\n",
      "jpg_url     2075 non-null object\n",
      "img_num     2075 non-null int64\n",
      "p1          2075 non-null object\n",
      "p1_conf     2075 non-null float64\n",
      "p1_dog      2075 non-null bool\n",
      "p2          2075 non-null object\n",
      "p2_conf     2075 non-null float64\n",
      "p2_dog      2075 non-null bool\n",
      "p3          2075 non-null object\n",
      "p3_conf     2075 non-null float64\n",
      "p3_dog      2075 non-null bool\n",
      "dtypes: bool(3), float64(3), int64(2), object(4)\n",
      "memory usage: 152.1+ KB\n"
     ]
    }
   ],
   "source": [
    "image_predictions.info()"
   ]
  },
  {
   "cell_type": "code",
   "execution_count": 261,
   "metadata": {},
   "outputs": [
    {
     "data": {
      "text/plain": [
       "False    2009\n",
       "True       66\n",
       "Name: jpg_url, dtype: int64"
      ]
     },
     "execution_count": 261,
     "metadata": {},
     "output_type": "execute_result"
    }
   ],
   "source": [
    "image_predictions.jpg_url.duplicated().value_counts()"
   ]
  },
  {
   "cell_type": "raw",
   "metadata": {},
   "source": [
    "狗狗图片链接存在重复。tweet_id 数据类型不对。"
   ]
  },
  {
   "cell_type": "markdown",
   "metadata": {},
   "source": [
    "#### 质量\n",
    "##### `twitter_archive_enhanced` 表格\n",
    "1. tweet_id 应为str类型，而不是int\n",
    "2. 缺失值过多的列删除，in_reply_to_status_id，in_reply_to_user_id,retweeted_status_id，retweeted_status_user_id，retweeted_status_timestamp\n",
    "3. 转发的信息的列应该删除  'retweeted_status_id', 'retweeted_status_user_id', 'retweeted_status_timestamp',\n",
    "3. 数据部分缺失，expanded_urls数据量为2297\n",
    "3. timestamp的数据类型应该化成标准的时间格式，应进行数据转化\n",
    "4. 评分分母不全为10，可从text中重新提取\n",
    "5. source保留着html标签,应去除html标签\n",
    "6. 狗狗名字存在缺失值,而且名字“a”,\"an\"应该不为狗狗名字，应该是信息提取错误\n",
    "\n",
    "##### `image_predictions` 表格\n",
    "1. image_predictions表中的图片url存在重复，需要删除\n",
    "3. tweet_id列的数据类型不正确。\n",
    "\n",
    "\n",
    "#### 清洁度\n",
    "- doggo、floofer、pupper、puppo 四列可融合成一列；\n",
    "- 应该将image_predictions与tweet_json这两个表格应该与twitter_archive_enhanced合并，通过tweet id 将3个表格合并为一个表格。\n",
    "\n"
   ]
  },
  {
   "cell_type": "markdown",
   "metadata": {},
   "source": [
    "# 清理"
   ]
  },
  {
   "cell_type": "code",
   "execution_count": 262,
   "metadata": {},
   "outputs": [],
   "source": [
    "# 复制数据集\n",
    "archive_enhanced_clean = twitter_archive_enhanced.copy()\n",
    "image_predictions_clean = image_predictions.copy()\n",
    "tweet_json_clean= tweet_json.copy()"
   ]
  },
  {
   "cell_type": "raw",
   "metadata": {},
   "source": [
    "定义 ： tweet_id 应为str类型，而不是int"
   ]
  },
  {
   "cell_type": "raw",
   "metadata": {},
   "source": [
    "代码"
   ]
  },
  {
   "cell_type": "code",
   "execution_count": 263,
   "metadata": {},
   "outputs": [],
   "source": [
    "archive_enhanced_clean.tweet_id = archive_enhanced_clean.tweet_id.astype(str)"
   ]
  },
  {
   "cell_type": "raw",
   "metadata": {},
   "source": [
    "测试"
   ]
  },
  {
   "cell_type": "code",
   "execution_count": 264,
   "metadata": {},
   "outputs": [
    {
     "data": {
      "text/plain": [
       "str"
      ]
     },
     "execution_count": 264,
     "metadata": {},
     "output_type": "execute_result"
    }
   ],
   "source": [
    "type(archive_enhanced_clean.tweet_id[0])"
   ]
  },
  {
   "cell_type": "raw",
   "metadata": {},
   "source": [
    "定义：\n",
    "缺失值过多的列删除，\n",
    "in_reply_to_status_id，in_reply_to_user_id"
   ]
  },
  {
   "cell_type": "raw",
   "metadata": {},
   "source": [
    "代码"
   ]
  },
  {
   "cell_type": "code",
   "execution_count": 265,
   "metadata": {},
   "outputs": [],
   "source": [
    "archive_enhanced_clean.drop(['in_reply_to_status_id','in_reply_to_user_id'],axis=1,inplace=True)"
   ]
  },
  {
   "cell_type": "raw",
   "metadata": {},
   "source": [
    "测试"
   ]
  },
  {
   "cell_type": "code",
   "execution_count": 266,
   "metadata": {},
   "outputs": [
    {
     "name": "stdout",
     "output_type": "stream",
     "text": [
      "<class 'pandas.core.frame.DataFrame'>\n",
      "RangeIndex: 2356 entries, 0 to 2355\n",
      "Data columns (total 15 columns):\n",
      "tweet_id                      2356 non-null object\n",
      "timestamp                     2356 non-null object\n",
      "source                        2356 non-null object\n",
      "text                          2356 non-null object\n",
      "retweeted_status_id           181 non-null float64\n",
      "retweeted_status_user_id      181 non-null float64\n",
      "retweeted_status_timestamp    181 non-null object\n",
      "expanded_urls                 2297 non-null object\n",
      "rating_numerator              2356 non-null int64\n",
      "rating_denominator            2356 non-null int64\n",
      "name                          2356 non-null object\n",
      "doggo                         2356 non-null object\n",
      "floofer                       2356 non-null object\n",
      "pupper                        2356 non-null object\n",
      "puppo                         2356 non-null object\n",
      "dtypes: float64(2), int64(2), object(11)\n",
      "memory usage: 276.2+ KB\n"
     ]
    }
   ],
   "source": [
    "archive_enhanced_clean.info()"
   ]
  },
  {
   "cell_type": "raw",
   "metadata": {},
   "source": [
    "定义： 转发的信息的列应该删除  'retweeted_status_id', 'retweeted_status_user_id', 'retweeted_status_timestamp',"
   ]
  },
  {
   "cell_type": "raw",
   "metadata": {},
   "source": [
    "代码"
   ]
  },
  {
   "cell_type": "code",
   "execution_count": 267,
   "metadata": {},
   "outputs": [],
   "source": [
    "archive_enhanced_clean = archive_enhanced_clean.loc[archive_enhanced_clean.retweeted_status_id.isnull()]\n",
    "archive_enhanced_clean.drop(['retweeted_status_id','retweeted_status_user_id','retweeted_status_timestamp'],axis=1,inplace=True)"
   ]
  },
  {
   "cell_type": "raw",
   "metadata": {},
   "source": [
    "测试"
   ]
  },
  {
   "cell_type": "code",
   "execution_count": 268,
   "metadata": {},
   "outputs": [
    {
     "name": "stdout",
     "output_type": "stream",
     "text": [
      "<class 'pandas.core.frame.DataFrame'>\n",
      "Int64Index: 2175 entries, 0 to 2355\n",
      "Data columns (total 12 columns):\n",
      "tweet_id              2175 non-null object\n",
      "timestamp             2175 non-null object\n",
      "source                2175 non-null object\n",
      "text                  2175 non-null object\n",
      "expanded_urls         2117 non-null object\n",
      "rating_numerator      2175 non-null int64\n",
      "rating_denominator    2175 non-null int64\n",
      "name                  2175 non-null object\n",
      "doggo                 2175 non-null object\n",
      "floofer               2175 non-null object\n",
      "pupper                2175 non-null object\n",
      "puppo                 2175 non-null object\n",
      "dtypes: int64(2), object(10)\n",
      "memory usage: 220.9+ KB\n"
     ]
    }
   ],
   "source": [
    "archive_enhanced_clean.info()"
   ]
  },
  {
   "cell_type": "raw",
   "metadata": {},
   "source": [
    "定义：数据部分缺失，expanded_urls数据量为2297"
   ]
  },
  {
   "cell_type": "raw",
   "metadata": {},
   "source": [
    "代码"
   ]
  },
  {
   "cell_type": "code",
   "execution_count": 269,
   "metadata": {},
   "outputs": [],
   "source": [
    "archive_enhanced_clean = archive_enhanced_clean.loc[archive_enhanced_clean.expanded_urls.notnull()]"
   ]
  },
  {
   "cell_type": "code",
   "execution_count": 270,
   "metadata": {
    "scrolled": true
   },
   "outputs": [
    {
     "name": "stdout",
     "output_type": "stream",
     "text": [
      "<class 'pandas.core.frame.DataFrame'>\n",
      "Int64Index: 2117 entries, 0 to 2355\n",
      "Data columns (total 12 columns):\n",
      "tweet_id              2117 non-null object\n",
      "timestamp             2117 non-null object\n",
      "source                2117 non-null object\n",
      "text                  2117 non-null object\n",
      "expanded_urls         2117 non-null object\n",
      "rating_numerator      2117 non-null int64\n",
      "rating_denominator    2117 non-null int64\n",
      "name                  2117 non-null object\n",
      "doggo                 2117 non-null object\n",
      "floofer               2117 non-null object\n",
      "pupper                2117 non-null object\n",
      "puppo                 2117 non-null object\n",
      "dtypes: int64(2), object(10)\n",
      "memory usage: 215.0+ KB\n"
     ]
    }
   ],
   "source": [
    "archive_enhanced_clean.info()"
   ]
  },
  {
   "cell_type": "raw",
   "metadata": {},
   "source": [
    "测试"
   ]
  },
  {
   "cell_type": "raw",
   "metadata": {},
   "source": [
    "定义： timestamp的数据类型应该化成标准的时间格式，应进行数据转化"
   ]
  },
  {
   "cell_type": "raw",
   "metadata": {},
   "source": [
    "代码"
   ]
  },
  {
   "cell_type": "code",
   "execution_count": 271,
   "metadata": {},
   "outputs": [],
   "source": [
    "archive_enhanced_clean['timestamp'] = pd.to_datetime(archive_enhanced_clean.timestamp)"
   ]
  },
  {
   "cell_type": "raw",
   "metadata": {},
   "source": [
    "测试"
   ]
  },
  {
   "cell_type": "code",
   "execution_count": 272,
   "metadata": {},
   "outputs": [
    {
     "data": {
      "text/plain": [
       "dtype('<M8[ns]')"
      ]
     },
     "execution_count": 272,
     "metadata": {},
     "output_type": "execute_result"
    }
   ],
   "source": [
    "archive_enhanced_clean.timestamp.dtypes"
   ]
  },
  {
   "cell_type": "raw",
   "metadata": {},
   "source": [
    "定义: 评分分母不全为10，可从text中重新提取"
   ]
  },
  {
   "cell_type": "raw",
   "metadata": {},
   "source": [
    "代码"
   ]
  },
  {
   "cell_type": "code",
   "execution_count": 273,
   "metadata": {
    "scrolled": true
   },
   "outputs": [],
   "source": [
    "import re\n",
    "import numpy as np\n",
    "#查找所有分母为10的评分,如果有超过两个的评分用&相连\n",
    "df_rating=[]\n",
    "pattern = re.compile(r'\\d+\\/10')\n",
    "for text in archive_enhanced_clean.text:\n",
    "    rate=pattern.findall(text)\n",
    "    df_rating.append(rate)\n",
    "#加入数据集\n",
    "# print(df_rating)\n",
    "archive_enhanced_clean['rating']=df_rating\n",
    "#转化成str，同时存在两种类型分类用&连接\n",
    "archive_enhanced_clean['rating']=archive_enhanced_clean['rating'].apply(lambda x:'&'.join(x) if len(x)>1 else ''.join(x))\n",
    "\n",
    "#将缺失值替换为np.nan\n",
    "archive_enhanced_clean['rating']=archive_enhanced_clean['rating'].replace('',np.nan)\n"
   ]
  },
  {
   "cell_type": "raw",
   "metadata": {},
   "source": [
    "测试"
   ]
  },
  {
   "cell_type": "code",
   "execution_count": 274,
   "metadata": {
    "scrolled": false
   },
   "outputs": [
    {
     "data": {
      "text/plain": [
       "12/10               488\n",
       "10/10               426\n",
       "11/10               415\n",
       "13/10               296\n",
       "9/10                153\n",
       "8/10                 96\n",
       "7/10                 50\n",
       "14/10                41\n",
       "6/10                 32\n",
       "5/10                 32\n",
       "3/10                 19\n",
       "4/10                 14\n",
       "2/10                  9\n",
       "1/10                  4\n",
       "10/10&7/10            3\n",
       "0/10                  2\n",
       "11/10&8/10            2\n",
       "10/10&4/10            2\n",
       "8/10&1/10             1\n",
       "4/10&13/10            1\n",
       "9/10&2/10             1\n",
       "7/10&8/10             1\n",
       "75/10                 1\n",
       "26/10                 1\n",
       "420/10                1\n",
       "8/10&11/10            1\n",
       "10/10&11/10           1\n",
       "12/10&11/10           1\n",
       "10/10&8/10            1\n",
       "10/10&6/10            1\n",
       "10/10&7/10&12/10      1\n",
       "10/10&10/10           1\n",
       "1776/10               1\n",
       "10/10&5/10            1\n",
       "5/10&8/10             1\n",
       "5/10&10/10            1\n",
       "27/10                 1\n",
       "11/10&10/10           1\n",
       "Name: rating, dtype: int64"
      ]
     },
     "execution_count": 274,
     "metadata": {},
     "output_type": "execute_result"
    }
   ],
   "source": [
    "archive_enhanced_clean['rating'].value_counts()"
   ]
  },
  {
   "cell_type": "code",
   "execution_count": 275,
   "metadata": {
    "scrolled": false
   },
   "outputs": [
    {
     "data": {
      "text/plain": [
       "766     \"Yep... just as I suspected. You're not flossing.\" 12/10 and 11/10 for the pup not flossing http...\n",
       "979                          This is Atticus. He's quite simply America af. 1776/10 https://t.co/GRXwMxLBkh\n",
       "1007    This is Bookstore and Seaweed. Bookstore is tired and Seaweed is an asshole. 10/10 and 7/10 resp...\n",
       "1222    Meet Travis and Flurp. Travis is pretty chill but Flurp can't lie down properly. 10/10 &amp; 8/1...\n",
       "1359    This is Socks. That water pup w the super legs just splashed him. Socks did not appreciate that....\n",
       "1459    This may be the greatest video I've ever been sent. 4/10 for Charles the puppy, 13/10 overall. (...\n",
       "1465    Meet Oliviér. He takes killer selfies. Has a dog of his own. It leaps at random &amp; can't bark...\n",
       "1508    When bae says they can't go out but you see them with someone else that same night. 5/10 &amp; 1...\n",
       "1525    This is Eriq. His friend just reminded him of last year's super bowl. Not cool friend\\n10/10 for...\n",
       "1538    Meet Fynn &amp; Taco. Fynn is an all-powerful leaf lord and Taco is in the wrong place at the wr...\n",
       "1795    Meet Tassy &amp; Bee. Tassy is pretty chill, but Bee is convinced the Ruffles are haunted. 10/10...\n",
       "1832    These two pups just met and have instantly bonded. Spectacular scene. Mesmerizing af. 10/10 and ...\n",
       "1897    Meet Rufio. He is unaware of the pink legless pupper wrapped around him. Might want to get that ...\n",
       "1901    Two gorgeous dogs here. Little waddling dog is a rebel. Refuses to look at camera. Must be a pre...\n",
       "1970    Meet Eve. She's a raging alcoholic 8/10 (would b 11/10 but pupper alcoholism is a tragic issue t...\n",
       "2010        10/10 for dog. 7/10 for cat. 12/10 for human. Much skill. Would pet all https://t.co/uhx5gfpx5k\n",
       "2064    Meet Holly. She's trying to teach small human-like pup about blocks but he's not paying attentio...\n",
       "2113    Meet Hank and Sully. Hank is very proud of the pumpkin they found and Sully doesn't give a shit....\n",
       "2177    Here we have Pancho and Peaches. Pancho is a Condoleezza Gryffindor, and Peaches is just an assh...\n",
       "2216    This is Spark. He's nervous. Other dog hasn't moved in a while. Won't come when called. Doesn't ...\n",
       "2263    This is Kial. Kial is either wearing a cape, which would be rad, or flashing us, which would be ...\n",
       "2272    Two dogs in this one. Both are rare Jujitsu Pythagoreans. One slightly whiter than other. Long l...\n",
       "2306    These are Peruvian Feldspars. Their names are Cupit and Prencer. Both resemble Rand Paul. Sick o...\n",
       "Name: text, dtype: object"
      ]
     },
     "execution_count": 275,
     "metadata": {},
     "output_type": "execute_result"
    }
   ],
   "source": [
    "#查看评分分子超过2位或者包含多个评分的文本内容\n",
    "archive_enhanced_clean.text[archive_enhanced_clean['rating'].str.len()>6]"
   ]
  },
  {
   "cell_type": "code",
   "execution_count": null,
   "metadata": {},
   "outputs": [],
   "source": []
  },
  {
   "cell_type": "code",
   "execution_count": 276,
   "metadata": {},
   "outputs": [
    {
     "data": {
      "text/plain": [
       "23"
      ]
     },
     "execution_count": 276,
     "metadata": {},
     "output_type": "execute_result"
    }
   ],
   "source": [
    "sum(archive_enhanced_clean['rating'].str.len()>6)\n"
   ]
  },
  {
   "cell_type": "raw",
   "metadata": {},
   "source": [
    "部分评分内容有误，手动修改即可。"
   ]
  },
  {
   "cell_type": "code",
   "execution_count": 277,
   "metadata": {},
   "outputs": [],
   "source": [
    "#针对要修改的部分新建dic\n",
    "dic={766:'12/10',1359:'9/10',1459:'4/10',1508:'5/10',\n",
    "     1525:'10/10',1897:'10/10',1970:'8/10',2010:'10/10',\n",
    "     2064:'8/10',2216:'8/10',2263:'4/10'}\n",
    "for (key,value) in dic.items():\n",
    "    archive_enhanced_clean.loc[key,'rating']=value"
   ]
  },
  {
   "cell_type": "code",
   "execution_count": 278,
   "metadata": {},
   "outputs": [
    {
     "data": {
      "text/plain": [
       "12"
      ]
     },
     "execution_count": 278,
     "metadata": {},
     "output_type": "execute_result"
    }
   ],
   "source": [
    "sum(archive_enhanced_clean['rating'].str.len()>6)"
   ]
  },
  {
   "cell_type": "raw",
   "metadata": {},
   "source": [
    "添加完rates属性后，'rating_numerator','rating_denominator' 已经多余，应该删除这两列"
   ]
  },
  {
   "cell_type": "code",
   "execution_count": 279,
   "metadata": {},
   "outputs": [],
   "source": [
    "archive_enhanced_clean.drop(archive_enhanced_clean[['rating_numerator','rating_denominator']],axis=1,inplace=True)"
   ]
  },
  {
   "cell_type": "raw",
   "metadata": {},
   "source": [
    "定义: source保留着html标签,应去除html标签，"
   ]
  },
  {
   "cell_type": "raw",
   "metadata": {},
   "source": [
    "代码"
   ]
  },
  {
   "cell_type": "code",
   "execution_count": 280,
   "metadata": {},
   "outputs": [],
   "source": [
    "archive_enhanced_clean.source = archive_enhanced_clean.source.str.extract('>(.+)<',expand = True)"
   ]
  },
  {
   "cell_type": "raw",
   "metadata": {},
   "source": [
    "测试"
   ]
  },
  {
   "cell_type": "code",
   "execution_count": 281,
   "metadata": {
    "scrolled": true
   },
   "outputs": [
    {
     "data": {
      "text/plain": [
       "Twitter for iPhone     1985\n",
       "Vine - Make a Scene      91\n",
       "Twitter Web Client       30\n",
       "TweetDeck                11\n",
       "Name: source, dtype: int64"
      ]
     },
     "execution_count": 281,
     "metadata": {},
     "output_type": "execute_result"
    }
   ],
   "source": [
    "archive_enhanced_clean.source.value_counts()"
   ]
  },
  {
   "cell_type": "code",
   "execution_count": null,
   "metadata": {},
   "outputs": [],
   "source": []
  },
  {
   "cell_type": "raw",
   "metadata": {},
   "source": [
    "定义:  狗狗名字存在缺失值,而且名字“a”,\"an\"应该不为狗狗名字，应该是信息提取错误\n",
    "信息重提取"
   ]
  },
  {
   "cell_type": "raw",
   "metadata": {},
   "source": [
    "代码"
   ]
  },
  {
   "cell_type": "code",
   "execution_count": 282,
   "metadata": {},
   "outputs": [],
   "source": [
    "#从text提取宠物名信息\n",
    "archive_enhanced_clean['name'] = archive_enhanced_clean.text.str \\\n",
    ".findall('(?:This is|named|Meet|Say hello to|name is|Here we have|Here is)\\s([A-Z][^\\s.,]*)')\n",
    "#转化成str，同时存在两种名字用,连接\n",
    "archive_enhanced_clean['name'] = archive_enhanced_clean['name'].apply(lambda x: ','.join(set(x)))\n",
    "#将缺失值替换为np.nan\n",
    "archive_enhanced_clean['name']=archive_enhanced_clean['name'].replace('',np.nan)\n",
    "\n",
    "### "
   ]
  },
  {
   "cell_type": "raw",
   "metadata": {},
   "source": [
    "测试"
   ]
  },
  {
   "cell_type": "code",
   "execution_count": 283,
   "metadata": {},
   "outputs": [
    {
     "data": {
      "text/plain": [
       "Charlie        11\n",
       "Lucy           11\n",
       "Cooper         10\n",
       "Oliver         10\n",
       "Penny           9\n",
       "Tucker          9\n",
       "Winston         8\n",
       "Lola            8\n",
       "Sadie           8\n",
       "Toby            7\n",
       "Daisy           7\n",
       "Bo              6\n",
       "Stanley         6\n",
       "Bella           6\n",
       "Bailey          6\n",
       "Jax             6\n",
       "Oscar           6\n",
       "Koda            6\n",
       "Dave            5\n",
       "Rusty           5\n",
       "Milo            5\n",
       "Chester         5\n",
       "Scout           5\n",
       "Leo             5\n",
       "Zoey            5\n",
       "Bentley         5\n",
       "Buddy           5\n",
       "Louis           5\n",
       "Jeffrey         4\n",
       "Reggie          4\n",
       "Chip            4\n",
       "Scooter         4\n",
       "Maggie          4\n",
       "Jerry           4\n",
       "Alfie           4\n",
       "Gus             4\n",
       "Clark           4\n",
       "Sophie          4\n",
       "Cassie          4\n",
       "Sammy           4\n",
       "Winnie          4\n",
       "Oakley          4\n",
       "Brody           4\n",
       "Gary            4\n",
       "Larry           4\n",
       "Boomer          4\n",
       "Jack            4\n",
       "Archie          4\n",
       "Derek           4\n",
       "Phil            4\n",
       "Dexter          4\n",
       "Duke            4\n",
       "Bear            4\n",
       "Clarence        4\n",
       "Finn            4\n",
       "George          4\n",
       "Zeke            3\n",
       "Doug            3\n",
       "Sunny           3\n",
       "Waffles         3\n",
       "Hank            3\n",
       "Jimothy         3\n",
       "Max             3\n",
       "Rufus           3\n",
       "Reginald        3\n",
       "Maximus         3\n",
       "Nala            3\n",
       "Sebastian       3\n",
       "Steven          3\n",
       "Lily            3\n",
       "Vincent         3\n",
       "Calvin          3\n",
       "Wilson          3\n",
       "Loki            3\n",
       "Otis            3\n",
       "Ellie           3\n",
       "Moose           3\n",
       "Kyle            3\n",
       "Gizmo           3\n",
       "Klevin          3\n",
       "Earl            3\n",
       "Ruby            3\n",
       "Wyatt           3\n",
       "Wallace         3\n",
       "Riley           3\n",
       "Rosie           3\n",
       "Ted             3\n",
       "Reese           3\n",
       "Olive           3\n",
       "Bruce           3\n",
       "Mia             3\n",
       "Walter          3\n",
       "Gerald          3\n",
       "Malcolm         3\n",
       "Luna            3\n",
       "Carl            3\n",
       "Samson          3\n",
       "Shadow          3\n",
       "Louie           3\n",
       "Beau            3\n",
       "Kevin           2\n",
       "Ava             2\n",
       "Jimison         2\n",
       "Atlas           2\n",
       "Oshie           2\n",
       "Herald          2\n",
       "Jeph            2\n",
       "Hunter          2\n",
       "Penelope        2\n",
       "Yogi            2\n",
       "Cupcake         2\n",
       "Cash            2\n",
       "Ollie           2\n",
       "Hobbes          2\n",
       "Bob             2\n",
       "Rory            2\n",
       "Solomon         2\n",
       "Piper           2\n",
       "Romeo           2\n",
       "Django          2\n",
       "Coops           2\n",
       "Juno            2\n",
       "Pippa           2\n",
       "Doc             2\n",
       "Terry           2\n",
       "Curtis          2\n",
       "Sandy           2\n",
       "Mister          2\n",
       "Pickles         2\n",
       "Keurig          2\n",
       "Watson          2\n",
       "Jackson         2\n",
       "Odie            2\n",
       "Franklin        2\n",
       "Misty           2\n",
       "Flávio          2\n",
       "Luca            2\n",
       "Cheryl          2\n",
       "Lenny           2\n",
       "Charles         2\n",
       "CeCe            2\n",
       "Maxaroni        2\n",
       "Kreg            2\n",
       "Sarge           2\n",
       "Phred           2\n",
       "Jesse           2\n",
       "Trooper         2\n",
       "Kenneth         2\n",
       "Belle           2\n",
       "Frank           2\n",
       "Dash            2\n",
       "Keith           2\n",
       "Sampson         2\n",
       "Griffin         2\n",
       "Rocky           2\n",
       "Alice           2\n",
       "Raymond         2\n",
       "Benji           2\n",
       "Lennon          2\n",
       "Nelly           2\n",
       "Ozzy            2\n",
       "Roosevelt       2\n",
       "Churlie         2\n",
       "Coco            2\n",
       "Lincoln         2\n",
       "Abby            2\n",
       "Gabe            2\n",
       "Chipson         2\n",
       "Sam             2\n",
       "Olivia          2\n",
       "Peaches         2\n",
       "Fiona           2\n",
       "Sansa           2\n",
       "Lorenzo         2\n",
       "Phineas         2\n",
       "Benedict        2\n",
       "Dakota          2\n",
       "Maddie          2\n",
       "Bernie          2\n",
       "Hammond         2\n",
       "Baxter          2\n",
       "Opal            2\n",
       "Patrick         2\n",
       "Lou             2\n",
       "Axel            2\n",
       "Wally           2\n",
       "Crystal         2\n",
       "Frankie         2\n",
       "Remington       2\n",
       "Moe             2\n",
       "Oliviér         2\n",
       "Kreggory        2\n",
       "Theodore        2\n",
       "Aspen           2\n",
       "Cody            2\n",
       "Layla           2\n",
       "Eli             2\n",
       "Chuckles        2\n",
       "Percy           2\n",
       "Herm            2\n",
       "Panda           2\n",
       "Linda           2\n",
       "Blitz           2\n",
       "Titan           2\n",
       "Ash             2\n",
       "Indie           2\n",
       "Thumas          2\n",
       "Elliot          2\n",
       "Atticus         2\n",
       "Zeus            2\n",
       "Chet            2\n",
       "Smokey          2\n",
       "Bisquick        2\n",
       "Sugar           2\n",
       "Rocco           2\n",
       "Brad            2\n",
       "Arnie           2\n",
       "Neptune         2\n",
       "Tyr             2\n",
       "Jiminy          2\n",
       "Kirby           2\n",
       "Bubbles         2\n",
       "Colby           2\n",
       "Calbert         2\n",
       "Finley          2\n",
       "Marley          2\n",
       "Albus           2\n",
       "Kilo            2\n",
       "Harold          2\n",
       "Jessiga         2\n",
       "Paisley         2\n",
       "Albert          2\n",
       "Gidget          1\n",
       "Lucky           1\n",
       "Juckson         1\n",
       "Ozzie           1\n",
       "Shelby          1\n",
       "Florence        1\n",
       "Richie          1\n",
       "Lizzie          1\n",
       "Bradlay         1\n",
       "Clybe           1\n",
       "Sandra          1\n",
       "Freddery        1\n",
       "Chuq            1\n",
       "Lipton          1\n",
       "Miguel          1\n",
       "Bobble          1\n",
       "Astrid          1\n",
       "Norman          1\n",
       "               ..\n",
       "Tobi            1\n",
       "Kyro            1\n",
       "Furzey          1\n",
       "Dewey           1\n",
       "Fred            1\n",
       "Rambo           1\n",
       "Swagger         1\n",
       "Raphael         1\n",
       "Autumn          1\n",
       "Bloop           1\n",
       "Jazz            1\n",
       "Remy            1\n",
       "Kawhi           1\n",
       "Timber          1\n",
       "Kevon           1\n",
       "Obie            1\n",
       "Barclay         1\n",
       "Shooter         1\n",
       "Pinot           1\n",
       "Buckley         1\n",
       "Bluebert        1\n",
       "Bert            1\n",
       "Rizzy           1\n",
       "Bell            1\n",
       "Shaggy          1\n",
       "Shawwn          1\n",
       "Monty           1\n",
       "Hazel           1\n",
       "Geoff           1\n",
       "Bertson         1\n",
       "Mason           1\n",
       "Klein           1\n",
       "Ike             1\n",
       "Alf             1\n",
       "Kane            1\n",
       "Tupawc          1\n",
       "Geno            1\n",
       "Bobb            1\n",
       "Schnitzel       1\n",
       "Maks            1\n",
       "Kara            1\n",
       "Ito             1\n",
       "Banjo           1\n",
       "Edd             1\n",
       "Sparky          1\n",
       "Enchilada       1\n",
       "Genevieve       1\n",
       "Levi            1\n",
       "Beebop          1\n",
       "Ruffles         1\n",
       "Lilli           1\n",
       "Rilo            1\n",
       "Sailer          1\n",
       "Socks           1\n",
       "Mosby           1\n",
       "Stewie          1\n",
       "Rumble          1\n",
       "Nollie          1\n",
       "Eriq            1\n",
       "Blue            1\n",
       "Gustaf          1\n",
       "Crawford        1\n",
       "Sojourner       1\n",
       "Jeffri          1\n",
       "Lucia           1\n",
       "Tove            1\n",
       "Fynn            1\n",
       "Staniel         1\n",
       "Rinna           1\n",
       "Betty           1\n",
       "Travis          1\n",
       "Maya            1\n",
       "Amber           1\n",
       "Millie          1\n",
       "Blakely         1\n",
       "Samsom          1\n",
       "Rueben          1\n",
       "Stephan         1\n",
       "Jed             1\n",
       "Griswold        1\n",
       "Jersey          1\n",
       "Willie          1\n",
       "Izzy            1\n",
       "Rubio           1\n",
       "Dwight          1\n",
       "Alexander       1\n",
       "Rorie           1\n",
       "Dixie           1\n",
       "Darby           1\n",
       "Harry           1\n",
       "Ronnie          1\n",
       "Frönq           1\n",
       "Bobby           1\n",
       "Kloey           1\n",
       "Jackie          1\n",
       "Dotsy           1\n",
       "Octaviath       1\n",
       "Nugget          1\n",
       "Meera           1\n",
       "Beckham         1\n",
       "Napolean        1\n",
       "Emmy            1\n",
       "Kulet           1\n",
       "Tyrone          1\n",
       "Striker         1\n",
       "Hemry           1\n",
       "Emma            1\n",
       "Peanut          1\n",
       "Kellogg         1\n",
       "Obi             1\n",
       "Glacier         1\n",
       "Laika           1\n",
       "Duddles         1\n",
       "Bayley          1\n",
       "Bubba           1\n",
       "Crimson         1\n",
       "Spanky          1\n",
       "Pete            1\n",
       "Jennifur        1\n",
       "Bilbo           1\n",
       "Banditt         1\n",
       "Ferg            1\n",
       "Emanuel         1\n",
       "Grizzwald       1\n",
       "Terrance        1\n",
       "Gin             1\n",
       "Leonidas        1\n",
       "Lambeau         1\n",
       "Longfellow      1\n",
       "Wiggles         1\n",
       "Vinscent        1\n",
       "Callie          1\n",
       "Murphy          1\n",
       "Kaia            1\n",
       "Duchess         1\n",
       "Pherb           1\n",
       "Goose           1\n",
       "Miley           1\n",
       "Seamus          1\n",
       "Rocky,Lugan     1\n",
       "Tug             1\n",
       "Leela           1\n",
       "Coleman         1\n",
       "Reptar          1\n",
       "Bowie           1\n",
       "Ole             1\n",
       "Luther          1\n",
       "Julius          1\n",
       "Jim             1\n",
       "Lorelei         1\n",
       "Tayzie          1\n",
       "Spork           1\n",
       "Fwed            1\n",
       "Ralpher         1\n",
       "Mingus          1\n",
       "Gòrdón          1\n",
       "Theo            1\n",
       "Combo           1\n",
       "Venti           1\n",
       "Mack            1\n",
       "Hanz            1\n",
       "Kaiya           1\n",
       "Butters         1\n",
       "Pumpkin         1\n",
       "Eugene          1\n",
       "Lassie          1\n",
       "Jeb             1\n",
       "Diogi           1\n",
       "Angel           1\n",
       "General         1\n",
       "Carper          1\n",
       "Petrick         1\n",
       "Hector          1\n",
       "Grizzie         1\n",
       "Hamrick         1\n",
       "Stark           1\n",
       "Pupcasso        1\n",
       "Jonah           1\n",
       "Iggy            1\n",
       "Leroi           1\n",
       "Ester           1\n",
       "Skittle         1\n",
       "Crouton         1\n",
       "Jay             1\n",
       "Brat            1\n",
       "Gromit          1\n",
       "Logan           1\n",
       "Oreo            1\n",
       "Gustav          1\n",
       "Gert            1\n",
       "Willow          1\n",
       "Alfredo         1\n",
       "Guss            1\n",
       "Dobby           1\n",
       "Molly           1\n",
       "Marty           1\n",
       "Lillie          1\n",
       "Huck            1\n",
       "Derby           1\n",
       "Rodman          1\n",
       "Stephanus       1\n",
       "Kayla           1\n",
       "Kobe            1\n",
       "Shnuggles       1\n",
       "Tebow           1\n",
       "Vinnie          1\n",
       "Tedrick         1\n",
       "Mary            1\n",
       "Klint           1\n",
       "Doobert         1\n",
       "Tassy           1\n",
       "Halo            1\n",
       "Sage            1\n",
       "Erik            1\n",
       "Beemo           1\n",
       "Carll           1\n",
       "Dudley          1\n",
       "Amélie          1\n",
       "Batdog          1\n",
       "Ebby            1\n",
       "Tilly           1\n",
       "Cuddles         1\n",
       "Chevy           1\n",
       "Aldrick         1\n",
       "Birf            1\n",
       "Brandi          1\n",
       "William         1\n",
       "Farfle          1\n",
       "Malikai         1\n",
       "Herb            1\n",
       "Sobe            1\n",
       "Lupe            1\n",
       "Blu             1\n",
       "Harnold         1\n",
       "Ginger          1\n",
       "Hall            1\n",
       "Aqua            1\n",
       "Acro            1\n",
       "Barry           1\n",
       "Noosh           1\n",
       "Tater           1\n",
       "Gunner          1\n",
       "Benny           1\n",
       "Ashleigh        1\n",
       "Zooey           1\n",
       "Ziva            1\n",
       "Al              1\n",
       "DayZ            1\n",
       "BeBe            1\n",
       "Humphrey        1\n",
       "Name: name, Length: 957, dtype: int64"
      ]
     },
     "execution_count": 283,
     "metadata": {},
     "output_type": "execute_result"
    }
   ],
   "source": [
    "#检查结果\n",
    "archive_enhanced_clean['name'].value_counts()"
   ]
  },
  {
   "cell_type": "raw",
   "metadata": {},
   "source": [
    "定义： image_predictions表中的图片url存在重复，需要删除"
   ]
  },
  {
   "cell_type": "raw",
   "metadata": {},
   "source": [
    "代码"
   ]
  },
  {
   "cell_type": "code",
   "execution_count": 284,
   "metadata": {},
   "outputs": [],
   "source": [
    "image_predictions_clean.drop_duplicates('jpg_url',inplace=True)"
   ]
  },
  {
   "cell_type": "raw",
   "metadata": {},
   "source": [
    "测试"
   ]
  },
  {
   "cell_type": "raw",
   "metadata": {},
   "source": [
    "定义： 应该将image_predictions与tweet_json这两个表格应该与twitter_archive_enhanced合并。"
   ]
  },
  {
   "cell_type": "raw",
   "metadata": {},
   "source": [
    "代码"
   ]
  },
  {
   "cell_type": "raw",
   "metadata": {},
   "source": [
    "定义： 修改image_predictions_clean中tweet_id列的数据类型为str"
   ]
  },
  {
   "cell_type": "raw",
   "metadata": {},
   "source": [
    "代码"
   ]
  },
  {
   "cell_type": "code",
   "execution_count": 285,
   "metadata": {},
   "outputs": [],
   "source": [
    "image_predictions_clean['tweet_id'] = image_predictions_clean['tweet_id'].astype(str)\n",
    "tweet_json_clean['id']=tweet_json_clean['id'].astype(str)"
   ]
  },
  {
   "cell_type": "raw",
   "metadata": {},
   "source": [
    "测试"
   ]
  },
  {
   "cell_type": "code",
   "execution_count": 286,
   "metadata": {},
   "outputs": [
    {
     "data": {
      "text/plain": [
       "str"
      ]
     },
     "execution_count": 286,
     "metadata": {},
     "output_type": "execute_result"
    }
   ],
   "source": [
    "type(image_predictions_clean['tweet_id'][0])"
   ]
  },
  {
   "cell_type": "code",
   "execution_count": 287,
   "metadata": {},
   "outputs": [
    {
     "data": {
      "text/html": [
       "<div>\n",
       "<style scoped>\n",
       "    .dataframe tbody tr th:only-of-type {\n",
       "        vertical-align: middle;\n",
       "    }\n",
       "\n",
       "    .dataframe tbody tr th {\n",
       "        vertical-align: top;\n",
       "    }\n",
       "\n",
       "    .dataframe thead th {\n",
       "        text-align: right;\n",
       "    }\n",
       "</style>\n",
       "<table border=\"1\" class=\"dataframe\">\n",
       "  <thead>\n",
       "    <tr style=\"text-align: right;\">\n",
       "      <th></th>\n",
       "      <th>id</th>\n",
       "      <th>retweet_count</th>\n",
       "      <th>favorite_count</th>\n",
       "    </tr>\n",
       "  </thead>\n",
       "  <tbody>\n",
       "    <tr>\n",
       "      <th>0</th>\n",
       "      <td>892420643555336193</td>\n",
       "      <td>8842</td>\n",
       "      <td>39492</td>\n",
       "    </tr>\n",
       "    <tr>\n",
       "      <th>1</th>\n",
       "      <td>892177421306343426</td>\n",
       "      <td>6480</td>\n",
       "      <td>33786</td>\n",
       "    </tr>\n",
       "    <tr>\n",
       "      <th>2</th>\n",
       "      <td>891815181378084864</td>\n",
       "      <td>4301</td>\n",
       "      <td>25445</td>\n",
       "    </tr>\n",
       "    <tr>\n",
       "      <th>3</th>\n",
       "      <td>891689557279858688</td>\n",
       "      <td>8925</td>\n",
       "      <td>42863</td>\n",
       "    </tr>\n",
       "    <tr>\n",
       "      <th>4</th>\n",
       "      <td>891327558926688256</td>\n",
       "      <td>9721</td>\n",
       "      <td>41016</td>\n",
       "    </tr>\n",
       "  </tbody>\n",
       "</table>\n",
       "</div>"
      ],
      "text/plain": [
       "                   id  retweet_count  favorite_count\n",
       "0  892420643555336193           8842           39492\n",
       "1  892177421306343426           6480           33786\n",
       "2  891815181378084864           4301           25445\n",
       "3  891689557279858688           8925           42863\n",
       "4  891327558926688256           9721           41016"
      ]
     },
     "execution_count": 287,
     "metadata": {},
     "output_type": "execute_result"
    }
   ],
   "source": [
    "tweet_json_clean.head()"
   ]
  },
  {
   "cell_type": "raw",
   "metadata": {},
   "source": [
    "定义 ：doggo、floofer、pupper、puppo 四列可融合成一列；"
   ]
  },
  {
   "cell_type": "raw",
   "metadata": {},
   "source": [
    "代码"
   ]
  },
  {
   "cell_type": "code",
   "execution_count": 288,
   "metadata": {},
   "outputs": [],
   "source": [
    "archive_enhanced_clean['stage']=archive_enhanced_clean.text.str.lower().str.findall('(doggo|pupper|puppo|floofer)')\n",
    "archive_enhanced_clean['stage'] = archive_enhanced_clean['stage'].apply(lambda x: ','.join(set(x)))\n",
    "#将缺失值替换为np.nan\n",
    "archive_enhanced_clean['stage']=archive_enhanced_clean['stage'].replace('',np.nan)\n",
    "\n",
    "## 删除更新内容后的列\n",
    "archive_enhanced_clean.drop(['doggo','pupper',\"puppo\",\"floofer\"],axis=1,inplace=True)"
   ]
  },
  {
   "cell_type": "raw",
   "metadata": {},
   "source": [
    "测试"
   ]
  },
  {
   "cell_type": "code",
   "execution_count": 289,
   "metadata": {},
   "outputs": [
    {
     "data": {
      "text/plain": [
       "pupper           248\n",
       "doggo             79\n",
       "puppo             28\n",
       "floofer            9\n",
       "doggo,pupper       6\n",
       "pupper,doggo       4\n",
       "doggo,puppo        2\n",
       "doggo,floofer      1\n",
       "Name: stage, dtype: int64"
      ]
     },
     "execution_count": 289,
     "metadata": {},
     "output_type": "execute_result"
    }
   ],
   "source": [
    "archive_enhanced_clean['stage'].value_counts()"
   ]
  },
  {
   "cell_type": "raw",
   "metadata": {},
   "source": [
    "定义：应该将image_predictions与tweet_json这两个表格应该与twitter_archive_enhanced合并，通过tweet id 将3个表格合并为一个表格。"
   ]
  },
  {
   "cell_type": "raw",
   "metadata": {},
   "source": [
    "代码"
   ]
  },
  {
   "cell_type": "code",
   "execution_count": 290,
   "metadata": {},
   "outputs": [],
   "source": [
    "#合并三个数据集\n",
    "twitter_archive_master = archive_enhanced_clean.merge(image_predictions_clean,how='inner',on='tweet_id')\n",
    "twitter_archive_master = twitter_archive_master.merge(tweet_json_clean,how='left',left_on='tweet_id',right_on=\"id\")"
   ]
  },
  {
   "cell_type": "raw",
   "metadata": {},
   "source": [
    "测试"
   ]
  },
  {
   "cell_type": "code",
   "execution_count": 291,
   "metadata": {
    "scrolled": true
   },
   "outputs": [
    {
     "name": "stdout",
     "output_type": "stream",
     "text": [
      "<class 'pandas.core.frame.DataFrame'>\n",
      "Int64Index: 1994 entries, 0 to 1993\n",
      "Data columns (total 22 columns):\n",
      "tweet_id          1994 non-null object\n",
      "timestamp         1994 non-null datetime64[ns]\n",
      "source            1994 non-null object\n",
      "text              1994 non-null object\n",
      "expanded_urls     1994 non-null object\n",
      "name              1381 non-null object\n",
      "rating            1981 non-null object\n",
      "stage             342 non-null object\n",
      "jpg_url           1994 non-null object\n",
      "img_num           1994 non-null int64\n",
      "p1                1994 non-null object\n",
      "p1_conf           1994 non-null float64\n",
      "p1_dog            1994 non-null bool\n",
      "p2                1994 non-null object\n",
      "p2_conf           1994 non-null float64\n",
      "p2_dog            1994 non-null bool\n",
      "p3                1994 non-null object\n",
      "p3_conf           1994 non-null float64\n",
      "p3_dog            1994 non-null bool\n",
      "id                1994 non-null object\n",
      "retweet_count     1994 non-null int64\n",
      "favorite_count    1994 non-null int64\n",
      "dtypes: bool(3), datetime64[ns](1), float64(3), int64(3), object(12)\n",
      "memory usage: 317.4+ KB\n"
     ]
    }
   ],
   "source": [
    "twitter_archive_master.info()"
   ]
  },
  {
   "cell_type": "raw",
   "metadata": {},
   "source": [
    "保存数据"
   ]
  },
  {
   "cell_type": "code",
   "execution_count": 292,
   "metadata": {},
   "outputs": [],
   "source": [
    "df_clean.to_csv('twitter_archive_master.csv', index=False)"
   ]
  },
  {
   "cell_type": "code",
   "execution_count": 293,
   "metadata": {
    "scrolled": false
   },
   "outputs": [
    {
     "name": "stdout",
     "output_type": "stream",
     "text": [
      "<class 'pandas.core.frame.DataFrame'>\n",
      "Int64Index: 1994 entries, 0 to 1993\n",
      "Data columns (total 22 columns):\n",
      "tweet_id          1994 non-null object\n",
      "timestamp         1994 non-null datetime64[ns]\n",
      "source            1994 non-null object\n",
      "text              1994 non-null object\n",
      "expanded_urls     1994 non-null object\n",
      "name              1381 non-null object\n",
      "rating            1981 non-null object\n",
      "stage             342 non-null object\n",
      "jpg_url           1994 non-null object\n",
      "img_num           1994 non-null int64\n",
      "p1                1994 non-null object\n",
      "p1_conf           1994 non-null float64\n",
      "p1_dog            1994 non-null bool\n",
      "p2                1994 non-null object\n",
      "p2_conf           1994 non-null float64\n",
      "p2_dog            1994 non-null bool\n",
      "p3                1994 non-null object\n",
      "p3_conf           1994 non-null float64\n",
      "p3_dog            1994 non-null bool\n",
      "id                1994 non-null object\n",
      "retweet_count     1994 non-null int64\n",
      "favorite_count    1994 non-null int64\n",
      "dtypes: bool(3), datetime64[ns](1), float64(3), int64(3), object(12)\n",
      "memory usage: 317.4+ KB\n"
     ]
    }
   ],
   "source": [
    "twitter_archive_master.info()"
   ]
  },
  {
   "cell_type": "markdown",
   "metadata": {},
   "source": [
    "# 数据分析"
   ]
  },
  {
   "cell_type": "markdown",
   "metadata": {},
   "source": [
    "## 提出问题\n",
    "1. favorite_count与retweet_count的关系\n",
    "2. 在数据已知的stage中，哪个stage占比最高\n",
    "3. 用神经网络预测狗狗图片的结果中，哪种狗最受欢迎？"
   ]
  },
  {
   "cell_type": "markdown",
   "metadata": {},
   "source": [
    "### favorite_count与retweet_count的关系"
   ]
  },
  {
   "cell_type": "code",
   "execution_count": 295,
   "metadata": {
    "scrolled": false
   },
   "outputs": [
    {
     "data": {
      "text/plain": [
       "Text(0.5,1,'relationship between favorite_count and retweet_count')"
      ]
     },
     "execution_count": 295,
     "metadata": {},
     "output_type": "execute_result"
    },
    {
     "data": {
      "image/png": "[encoded data removed]",
      "text/plain": [
       "<matplotlib.figure.Figure at 0x7fd87517c198>"
      ]
     },
     "metadata": {
      "needs_background": "light"
     },
     "output_type": "display_data"
    }
   ],
   "source": [
    "import matplotlib.pyplot as plt\n",
    "%matplotlib inline\n",
    "plt.figure(figsize=(8,8)) \n",
    "plt.scatter(twitter_archive_master['favorite_count'],twitter_archive_master['retweet_count'])\n",
    "plt.xlabel('favorite_count')\n",
    "plt.ylabel('retweet_count')\n",
    "plt.title('relationship between favorite_count and retweet_count')"
   ]
  },
  {
   "cell_type": "raw",
   "metadata": {},
   "source": [
    "从图中，我们可以发现，“favorite_count”与“retweet_count”呈正相关的关系。"
   ]
  },
  {
   "cell_type": "markdown",
   "metadata": {},
   "source": [
    "###  在数据已知的stage中，哪个stage占比最高"
   ]
  },
  {
   "cell_type": "code",
   "execution_count": 297,
   "metadata": {
    "scrolled": true
   },
   "outputs": [],
   "source": [
    "# !pip3 install squarify"
   ]
  },
  {
   "cell_type": "code",
   "execution_count": null,
   "metadata": {},
   "outputs": [],
   "source": []
  },
  {
   "cell_type": "code",
   "execution_count": 304,
   "metadata": {
    "scrolled": true
   },
   "outputs": [
    {
     "data": {
      "text/plain": [
       "Text(0.5,1,'distribution of stage')"
      ]
     },
     "execution_count": 304,
     "metadata": {},
     "output_type": "execute_result"
    },
    {
     "data": {
      "image/png": "[encoded data removed]",
      "text/plain": [
       "<matplotlib.figure.Figure at 0x7fd870091358>"
      ]
     },
     "metadata": {
      "needs_background": "light"
     },
     "output_type": "display_data"
    }
   ],
   "source": [
    "import squarify \n",
    "stage_count = twitter_archive_master.stage.str.split('|',expand=True).stack().value_counts()\n",
    "labels = twitter_archive_master.stage.str.split('|',expand=True).stack().value_counts().index.tolist()\n",
    "plt.figure(figsize=(10,8))\n",
    "squarify.plot(sizes=stage_count,\n",
    "              label=labels, alpha=.6 )\n",
    "plt.title(\"distribution of stage\")"
   ]
  },
  {
   "cell_type": "raw",
   "metadata": {},
   "source": [
    "我们可以很清晰地观察到在数据已知的stage中，puper占比最高"
   ]
  },
  {
   "cell_type": "markdown",
   "metadata": {},
   "source": [
    "### 用神经网络预测狗狗图片的结果中，哪种狗最受欢迎？"
   ]
  },
  {
   "cell_type": "code",
   "execution_count": 306,
   "metadata": {},
   "outputs": [
    {
     "data": {
      "text/plain": [
       "golden_retriever      158\n",
       "Labrador_retriever    108\n",
       "Pembroke               95\n",
       "Chihuahua              91\n",
       "pug                    62\n",
       "toy_poodle             51\n",
       "chow                   48\n",
       "Samoyed                42\n",
       "Pomeranian             42\n",
       "malamute               33\n",
       "dtype: int64"
      ]
     },
     "execution_count": 306,
     "metadata": {},
     "output_type": "execute_result"
    }
   ],
   "source": [
    "count = []\n",
    "for index in twitter_archive_master.index:\n",
    "    if twitter_archive_master.loc[index]['p1_dog'] == True:\n",
    "        count.append(twitter_archive_master.loc[index]['p1'])\n",
    "    elif twitter_archive_master.loc[index]['p2_dog'] == True:\n",
    "        count.append(twitter_archive_master.loc[index]['p2'])\n",
    "    elif twitter_archive_master.loc[index]['p3_dog'] == True:\n",
    "        count.append(twitter_archive_master.loc[index]['p3'])\n",
    "count = pd.Series(count)\n",
    "count_top10 = count.value_counts()[:10]\n",
    "count_top10"
   ]
  },
  {
   "cell_type": "code",
   "execution_count": 310,
   "metadata": {
    "scrolled": true
   },
   "outputs": [
    {
     "name": "stderr",
     "output_type": "stream",
     "text": [
      "/opt/conda/lib/python3.6/site-packages/ipykernel_launcher.py:3: FutureWarning: Series.data is deprecated and will be removed in a future version\n",
      "  This is separate from the ipykernel package so we can avoid doing imports until\n"
     ]
    },
    {
     "data": {
      "text/plain": [
       "Text(0.5,1,'pie of stage')"
      ]
     },
     "execution_count": 310,
     "metadata": {},
     "output_type": "execute_result"
    },
    {
     "data": {
      "image/png": "[encoded data removed]",
      "text/plain": [
       "<matplotlib.figure.Figure at 0x7fd86bd01358>"
      ]
     },
     "metadata": {},
     "output_type": "display_data"
    }
   ],
   "source": [
    "plt.figure(figsize=(10,10))\n",
    "explode = (0.1,0,0,0,0,0,0,0,0,0)\n",
    "plt.pie(count_top10.data,labels=count_top10.index,explode = explode,autopct = '%3.1f%%',shadow = True,startangle = 90)\n",
    "plt.axis('equal')\n",
    "plt.title('pie of stage')"
   ]
  },
  {
   "cell_type": "raw",
   "metadata": {},
   "source": [
    "可以看出，用神经网络预测狗狗图片的结果中，品种为golden_retriever的狗最受欢迎"
   ]
  }
 ],
 "metadata": {
  "kernelspec": {
   "display_name": "Python 3",
   "language": "python",
   "name": "python3"
  },
  "language_info": {
   "codemirror_mode": {
    "name": "ipython",
    "version": 3
   },
   "file_extension": ".py",
   "mimetype": "text/x-python",
   "name": "python",
   "nbconvert_exporter": "python",
   "pygments_lexer": "ipython3",
   "version": "3.6.3"
  }
 },
 "nbformat": 4,
 "nbformat_minor": 2
}
